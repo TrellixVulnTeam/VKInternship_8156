{
 "cells": [
  {
   "cell_type": "code",
   "execution_count": 1,
   "metadata": {},
   "outputs": [],
   "source": [
    "import os\n",
    "import sys\n",
    "module_path = os.path.abspath(os.path.join('..'))\n",
    "if module_path not in sys.path:\n",
    "    sys.path.append(module_path) "
   ]
  },
  {
   "cell_type": "code",
   "execution_count": 2,
   "metadata": {},
   "outputs": [],
   "source": [
    "%load_ext autoreload\n",
    "%autoreload 2"
   ]
  },
  {
   "cell_type": "markdown",
   "metadata": {},
   "source": [
    "# Libs"
   ]
  },
  {
   "cell_type": "code",
   "execution_count": 3,
   "metadata": {},
   "outputs": [],
   "source": [
    "import torch\n",
    "from torch.utils.data import DataLoader, RandomSampler\n",
    "import torch.optim as optim\n",
    "from torch.utils.tensorboard import SummaryWriter\n",
    "\n",
    "import os\n",
    "from pathlib import Path\n",
    "import numpy as np\n",
    "from tqdm.notebook import tqdm\n",
    "import gc\n",
    "\n",
    "import src"
   ]
  },
  {
   "cell_type": "code",
   "execution_count": null,
   "metadata": {},
   "outputs": [],
   "source": [
    "!apt-get"
   ]
  },
  {
   "cell_type": "code",
   "execution_count": 25,
   "metadata": {},
   "outputs": [
    {
     "name": "stdout",
     "output_type": "stream",
     "text": [
      "Thu Jun 18 17:07:08 2020       \r\n",
      "+-----------------------------------------------------------------------------+\r\n",
      "| NVIDIA-SMI 418.87.00    Driver Version: 418.87.00    CUDA Version: 10.1     |\r\n",
      "|-------------------------------+----------------------+----------------------+\r\n",
      "| GPU  Name        Persistence-M| Bus-Id        Disp.A | Volatile Uncorr. ECC |\r\n",
      "| Fan  Temp  Perf  Pwr:Usage/Cap|         Memory-Usage | GPU-Util  Compute M. |\r\n",
      "|===============================+======================+======================|\r\n",
      "|   0  Tesla K80           On   | 00000000:00:1E.0 Off |                    0 |\r\n",
      "| N/A   54C    P0    57W / 149W |   1745MiB / 11441MiB |      0%      Default |\r\n",
      "+-------------------------------+----------------------+----------------------+\r\n",
      "                                                                               \r\n",
      "+-----------------------------------------------------------------------------+\r\n",
      "| Processes:                                                       GPU Memory |\r\n",
      "|  GPU       PID   Type   Process name                             Usage      |\r\n",
      "|=============================================================================|\r\n",
      "+-----------------------------------------------------------------------------+\r\n"
     ]
    }
   ],
   "source": [
    "!nvidia-smi"
   ]
  },
  {
   "cell_type": "code",
   "execution_count": 5,
   "metadata": {},
   "outputs": [
    {
     "data": {
      "text/plain": [
       "True"
      ]
     },
     "execution_count": 5,
     "metadata": {},
     "output_type": "execute_result"
    }
   ],
   "source": [
    "torch.cuda.is_available()"
   ]
  },
  {
   "cell_type": "markdown",
   "metadata": {},
   "source": [
    "# Train funciton"
   ]
  },
  {
   "cell_type": "code",
   "execution_count": 23,
   "metadata": {},
   "outputs": [],
   "source": [
    "def train(model, train_loader,\n",
    "          test_loader,\n",
    "          loss,\n",
    "          optimizer,\n",
    "          scheduler,\n",
    "          tb_path=\".\",\n",
    "          epochs = 1,\n",
    "          init_epoch=0):\n",
    "    device = torch.device('cuda' if torch.cuda.is_available() else 'cpu')\n",
    "    print(\"Device: {}\".format(device))\n",
    "    print('*****************')\n",
    "    \n",
    "    writer = SummaryWriter(tb_path)\n",
    "    \n",
    "    model = model.to(device)\n",
    "\n",
    "    train_loss_history = []\n",
    "    test_loss_history = []\n",
    "  \n",
    "    for epoch in range(init_epoch, init_epoch+epochs):\n",
    "        print(f\"Epoch {epoch+1}:\")\n",
    "        \n",
    "        train_mean_loss = 0\n",
    "        \n",
    "        pbar = tqdm(total=len(train_loader))\n",
    "        \n",
    "        \n",
    "        model = model.train()\n",
    "        for i, (swn, s) in enumerate(train_loader):\n",
    "            optimizer.zero_grad()\n",
    "            model.zero_grad()\n",
    "\n",
    "\n",
    "            swn = swn.to(device)\n",
    "            s = s.to(device)\n",
    "            \n",
    "            cs = model.forward(swn)\n",
    "            loss_value = loss(cs, swn, s)\n",
    "            \n",
    "            \n",
    "            if torch.isnan(loss_value):\n",
    "                print(\"Error on {}\".format(i))\n",
    "                del cs\n",
    "                del swn\n",
    "                del s\n",
    "                del loss_value\n",
    "                gc.collect()\n",
    "                torch.cuda.empty_cache()\n",
    "                continue\n",
    "                #return\n",
    "\n",
    "            loss_value.backward()\n",
    "            train_mean_loss += loss_value.data.cpu()\n",
    "            \n",
    "            optimizer.step()\n",
    "            \n",
    "            pbar.update(1)\n",
    "            \n",
    "            pbar.set_description(\"Loss \\\"{}\\\"\".format(loss_value.data.cpu()))\n",
    "        \n",
    "            gc.collect()\n",
    "            torch.cuda.empty_cache()\n",
    "            del cs\n",
    "            del swn\n",
    "            del s\n",
    "            del loss_value\n",
    "            gc.collect()\n",
    "            torch.cuda.empty_cache()\n",
    "        \n",
    "        scheduler.step()\n",
    "        torch.cuda.empty_cache()\n",
    "        pbar.close()\n",
    "        train_mean_loss /= len(train_loader)\n",
    "        train_loss_history.append(train_mean_loss)\n",
    "        print(f\"Mean train loss: {train_mean_loss}:\")\n",
    "\n",
    "        example_audio = True\n",
    "        \n",
    "        test_mean_loss = 0\n",
    "        count = 0\n",
    "        model = model.eval()\n",
    "        for (swn, s) in train_loader:\n",
    "            \n",
    "\n",
    "            swn = swn.to(device)\n",
    "            s = s.to(device)\n",
    "\n",
    "            cs = model.forward(swn)\n",
    "            loss_value = loss(cs, swn, s)\n",
    "            count += 1\n",
    "            \n",
    "            if example_audio:\n",
    "                example_audio = False\n",
    "                writer.add_audio('Audio/clean', s[0,:].data.cpu(), sample_rate=16000)\n",
    "                writer.add_audio('Audio/with noise', swn[0,:].data.cpu(), sample_rate=16000)\n",
    "                writer.add_audio('Audio/predict', cs[0,:].data.cpu(), sample_rate=16000)\n",
    "            test_mean_loss += loss_value.data.cpu()\n",
    "            \n",
    "            gc.collect()\n",
    "            torch.cuda.empty_cache()\n",
    "            del cs\n",
    "            del swn\n",
    "            del s\n",
    "            del loss_value\n",
    "            \n",
    "\n",
    "        test_mean_loss /= count\n",
    "        test_loss_history.append(test_mean_loss)\n",
    "        print(f\"Mean test loss: {test_mean_loss}:\")\n",
    "\n",
    "\n",
    "        \n",
    "        writer.add_scalar('Loss/train', train_mean_loss, epoch)\n",
    "        writer.add_scalar('Loss/test', test_mean_loss, epoch)\n",
    "        print('---------------')\n",
    "    return train_loss_history, test_loss_history"
   ]
  },
  {
   "cell_type": "markdown",
   "metadata": {},
   "source": [
    "# Experiment config"
   ]
  },
  {
   "cell_type": "code",
   "execution_count": 7,
   "metadata": {},
   "outputs": [],
   "source": [
    "train_speech_sources = list(Path('../data/cleaned/LIBRISPEECH/LibriSpeech/train-clean-100/').glob('*'))[:50]\n",
    "train_speech_files = np.concatenate([\n",
    "    list(path.glob('**/*.flac')) for path in train_speech_sources\n",
    "])\n",
    "\n",
    "test_speech_sources = list(Path('../data/cleaned/LIBRISPEECH/LibriSpeech/train-clean-100/').glob('*'))[50:55]\n",
    "test_speech_files = np.concatenate([\n",
    "    list(path.glob('**/*.flac')) for path in test_speech_sources\n",
    "])\n",
    "\n",
    "train_noise_sources = list(Path('../data/cleaned/DEMAND').glob('*'))[:8]\n",
    "train_noise_files = np.concatenate([\n",
    "    list(path.glob('**/*.wav')) for path in train_noise_sources\n",
    "])\n",
    "\n",
    "test_noise_sources = list(Path('../data/cleaned/DEMAND').glob('*'))[8:10]\n",
    "test_noise_files = np.concatenate([\n",
    "    list(path.glob('**/*.wav')) for path in test_noise_sources\n",
    "])\n"
   ]
  },
  {
   "cell_type": "code",
   "execution_count": 15,
   "metadata": {},
   "outputs": [
    {
     "data": {
      "text/plain": [
       "{'name': 'Experiment 1',\n",
       " 'snr': [15, 10, 5, 0],\n",
       " 'results_path': '../results/Experiment 1',\n",
       " 'tensorboard_path': '../results/tb/Experiment 1',\n",
       " 'train_samples': 20,\n",
       " 'test_samples': 10,\n",
       " 'train_speech_batch_size': 10,\n",
       " 'test_speech_batch_size': 1,\n",
       " 'shuffle': True,\n",
       " 'train_speech': array([PosixPath('../data/cleaned/LIBRISPEECH/LibriSpeech/train-clean-100/6019/3185/6019-3185-0089.flac'),\n",
       "        PosixPath('../data/cleaned/LIBRISPEECH/LibriSpeech/train-clean-100/6019/3185/6019-3185-0010.flac'),\n",
       "        PosixPath('../data/cleaned/LIBRISPEECH/LibriSpeech/train-clean-100/6019/3185/6019-3185-0098.flac'),\n",
       "        ...,\n",
       "        PosixPath('../data/cleaned/LIBRISPEECH/LibriSpeech/train-clean-100/1926/147979/1926-147979-0037.flac'),\n",
       "        PosixPath('../data/cleaned/LIBRISPEECH/LibriSpeech/train-clean-100/1926/147979/1926-147979-0028.flac'),\n",
       "        PosixPath('../data/cleaned/LIBRISPEECH/LibriSpeech/train-clean-100/1926/147979/1926-147979-0046.flac')],\n",
       "       dtype=object),\n",
       " 'test_speech': array([PosixPath('../data/cleaned/LIBRISPEECH/LibriSpeech/train-clean-100/2817/142380/2817-142380-0024.flac'),\n",
       "        PosixPath('../data/cleaned/LIBRISPEECH/LibriSpeech/train-clean-100/2817/142380/2817-142380-0006.flac'),\n",
       "        PosixPath('../data/cleaned/LIBRISPEECH/LibriSpeech/train-clean-100/2817/142380/2817-142380-0042.flac'),\n",
       "        PosixPath('../data/cleaned/LIBRISPEECH/LibriSpeech/train-clean-100/2817/142380/2817-142380-0033.flac'),\n",
       "        PosixPath('../data/cleaned/LIBRISPEECH/LibriSpeech/train-clean-100/2817/142380/2817-142380-0015.flac'),\n",
       "        PosixPath('../data/cleaned/LIBRISPEECH/LibriSpeech/train-clean-100/2817/142380/2817-142380-0020.flac'),\n",
       "        PosixPath('../data/cleaned/LIBRISPEECH/LibriSpeech/train-clean-100/2817/142380/2817-142380-0002.flac'),\n",
       "        PosixPath('../data/cleaned/LIBRISPEECH/LibriSpeech/train-clean-100/2817/142380/2817-142380-0011.flac'),\n",
       "        PosixPath('../data/cleaned/LIBRISPEECH/LibriSpeech/train-clean-100/2817/142380/2817-142380-0028.flac'),\n",
       "        PosixPath('../data/cleaned/LIBRISPEECH/LibriSpeech/train-clean-100/2817/142380/2817-142380-0037.flac'),\n",
       "        PosixPath('../data/cleaned/LIBRISPEECH/LibriSpeech/train-clean-100/2817/142380/2817-142380-0019.flac'),\n",
       "        PosixPath('../data/cleaned/LIBRISPEECH/LibriSpeech/train-clean-100/2817/142380/2817-142380-0000.flac'),\n",
       "        PosixPath('../data/cleaned/LIBRISPEECH/LibriSpeech/train-clean-100/2817/142380/2817-142380-0008.flac'),\n",
       "        PosixPath('../data/cleaned/LIBRISPEECH/LibriSpeech/train-clean-100/2817/142380/2817-142380-0026.flac'),\n",
       "        PosixPath('../data/cleaned/LIBRISPEECH/LibriSpeech/train-clean-100/2817/142380/2817-142380-0017.flac'),\n",
       "        PosixPath('../data/cleaned/LIBRISPEECH/LibriSpeech/train-clean-100/2817/142380/2817-142380-0035.flac'),\n",
       "        PosixPath('../data/cleaned/LIBRISPEECH/LibriSpeech/train-clean-100/2817/142380/2817-142380-0004.flac'),\n",
       "        PosixPath('../data/cleaned/LIBRISPEECH/LibriSpeech/train-clean-100/2817/142380/2817-142380-0040.flac'),\n",
       "        PosixPath('../data/cleaned/LIBRISPEECH/LibriSpeech/train-clean-100/2817/142380/2817-142380-0022.flac'),\n",
       "        PosixPath('../data/cleaned/LIBRISPEECH/LibriSpeech/train-clean-100/2817/142380/2817-142380-0013.flac'),\n",
       "        PosixPath('../data/cleaned/LIBRISPEECH/LibriSpeech/train-clean-100/2817/142380/2817-142380-0031.flac'),\n",
       "        PosixPath('../data/cleaned/LIBRISPEECH/LibriSpeech/train-clean-100/2817/142380/2817-142380-0039.flac'),\n",
       "        PosixPath('../data/cleaned/LIBRISPEECH/LibriSpeech/train-clean-100/2817/142380/2817-142380-0016.flac'),\n",
       "        PosixPath('../data/cleaned/LIBRISPEECH/LibriSpeech/train-clean-100/2817/142380/2817-142380-0034.flac'),\n",
       "        PosixPath('../data/cleaned/LIBRISPEECH/LibriSpeech/train-clean-100/2817/142380/2817-142380-0025.flac'),\n",
       "        PosixPath('../data/cleaned/LIBRISPEECH/LibriSpeech/train-clean-100/2817/142380/2817-142380-0007.flac'),\n",
       "        PosixPath('../data/cleaned/LIBRISPEECH/LibriSpeech/train-clean-100/2817/142380/2817-142380-0012.flac'),\n",
       "        PosixPath('../data/cleaned/LIBRISPEECH/LibriSpeech/train-clean-100/2817/142380/2817-142380-0030.flac'),\n",
       "        PosixPath('../data/cleaned/LIBRISPEECH/LibriSpeech/train-clean-100/2817/142380/2817-142380-0021.flac'),\n",
       "        PosixPath('../data/cleaned/LIBRISPEECH/LibriSpeech/train-clean-100/2817/142380/2817-142380-0003.flac'),\n",
       "        PosixPath('../data/cleaned/LIBRISPEECH/LibriSpeech/train-clean-100/2817/142380/2817-142380-0038.flac'),\n",
       "        PosixPath('../data/cleaned/LIBRISPEECH/LibriSpeech/train-clean-100/2817/142380/2817-142380-0029.flac'),\n",
       "        PosixPath('../data/cleaned/LIBRISPEECH/LibriSpeech/train-clean-100/2817/142380/2817-142380-0010.flac'),\n",
       "        PosixPath('../data/cleaned/LIBRISPEECH/LibriSpeech/train-clean-100/2817/142380/2817-142380-0001.flac'),\n",
       "        PosixPath('../data/cleaned/LIBRISPEECH/LibriSpeech/train-clean-100/2817/142380/2817-142380-0036.flac'),\n",
       "        PosixPath('../data/cleaned/LIBRISPEECH/LibriSpeech/train-clean-100/2817/142380/2817-142380-0018.flac'),\n",
       "        PosixPath('../data/cleaned/LIBRISPEECH/LibriSpeech/train-clean-100/2817/142380/2817-142380-0009.flac'),\n",
       "        PosixPath('../data/cleaned/LIBRISPEECH/LibriSpeech/train-clean-100/2817/142380/2817-142380-0027.flac'),\n",
       "        PosixPath('../data/cleaned/LIBRISPEECH/LibriSpeech/train-clean-100/2817/142380/2817-142380-0032.flac'),\n",
       "        PosixPath('../data/cleaned/LIBRISPEECH/LibriSpeech/train-clean-100/2817/142380/2817-142380-0014.flac'),\n",
       "        PosixPath('../data/cleaned/LIBRISPEECH/LibriSpeech/train-clean-100/2817/142380/2817-142380-0041.flac'),\n",
       "        PosixPath('../data/cleaned/LIBRISPEECH/LibriSpeech/train-clean-100/2817/142380/2817-142380-0005.flac'),\n",
       "        PosixPath('../data/cleaned/LIBRISPEECH/LibriSpeech/train-clean-100/2817/142380/2817-142380-0023.flac'),\n",
       "        PosixPath('../data/cleaned/LIBRISPEECH/LibriSpeech/train-clean-100/2817/142371/2817-142371-0068.flac'),\n",
       "        PosixPath('../data/cleaned/LIBRISPEECH/LibriSpeech/train-clean-100/2817/142371/2817-142371-0077.flac'),\n",
       "        PosixPath('../data/cleaned/LIBRISPEECH/LibriSpeech/train-clean-100/2817/142371/2817-142371-0059.flac'),\n",
       "        PosixPath('../data/cleaned/LIBRISPEECH/LibriSpeech/train-clean-100/2817/142371/2817-142371-0033.flac'),\n",
       "        PosixPath('../data/cleaned/LIBRISPEECH/LibriSpeech/train-clean-100/2817/142371/2817-142371-0015.flac'),\n",
       "        PosixPath('../data/cleaned/LIBRISPEECH/LibriSpeech/train-clean-100/2817/142371/2817-142371-0051.flac'),\n",
       "        PosixPath('../data/cleaned/LIBRISPEECH/LibriSpeech/train-clean-100/2817/142371/2817-142371-0006.flac'),\n",
       "        PosixPath('../data/cleaned/LIBRISPEECH/LibriSpeech/train-clean-100/2817/142371/2817-142371-0042.flac'),\n",
       "        PosixPath('../data/cleaned/LIBRISPEECH/LibriSpeech/train-clean-100/2817/142371/2817-142371-0024.flac'),\n",
       "        PosixPath('../data/cleaned/LIBRISPEECH/LibriSpeech/train-clean-100/2817/142371/2817-142371-0060.flac'),\n",
       "        PosixPath('../data/cleaned/LIBRISPEECH/LibriSpeech/train-clean-100/2817/142371/2817-142371-0011.flac'),\n",
       "        PosixPath('../data/cleaned/LIBRISPEECH/LibriSpeech/train-clean-100/2817/142371/2817-142371-0002.flac'),\n",
       "        PosixPath('../data/cleaned/LIBRISPEECH/LibriSpeech/train-clean-100/2817/142371/2817-142371-0020.flac'),\n",
       "        PosixPath('../data/cleaned/LIBRISPEECH/LibriSpeech/train-clean-100/2817/142371/2817-142371-0037.flac'),\n",
       "        PosixPath('../data/cleaned/LIBRISPEECH/LibriSpeech/train-clean-100/2817/142371/2817-142371-0073.flac'),\n",
       "        PosixPath('../data/cleaned/LIBRISPEECH/LibriSpeech/train-clean-100/2817/142371/2817-142371-0055.flac'),\n",
       "        PosixPath('../data/cleaned/LIBRISPEECH/LibriSpeech/train-clean-100/2817/142371/2817-142371-0019.flac'),\n",
       "        PosixPath('../data/cleaned/LIBRISPEECH/LibriSpeech/train-clean-100/2817/142371/2817-142371-0046.flac'),\n",
       "        PosixPath('../data/cleaned/LIBRISPEECH/LibriSpeech/train-clean-100/2817/142371/2817-142371-0064.flac'),\n",
       "        PosixPath('../data/cleaned/LIBRISPEECH/LibriSpeech/train-clean-100/2817/142371/2817-142371-0028.flac'),\n",
       "        PosixPath('../data/cleaned/LIBRISPEECH/LibriSpeech/train-clean-100/2817/142371/2817-142371-0000.flac'),\n",
       "        PosixPath('../data/cleaned/LIBRISPEECH/LibriSpeech/train-clean-100/2817/142371/2817-142371-0053.flac'),\n",
       "        PosixPath('../data/cleaned/LIBRISPEECH/LibriSpeech/train-clean-100/2817/142371/2817-142371-0017.flac'),\n",
       "        PosixPath('../data/cleaned/LIBRISPEECH/LibriSpeech/train-clean-100/2817/142371/2817-142371-0071.flac'),\n",
       "        PosixPath('../data/cleaned/LIBRISPEECH/LibriSpeech/train-clean-100/2817/142371/2817-142371-0035.flac'),\n",
       "        PosixPath('../data/cleaned/LIBRISPEECH/LibriSpeech/train-clean-100/2817/142371/2817-142371-0062.flac'),\n",
       "        PosixPath('../data/cleaned/LIBRISPEECH/LibriSpeech/train-clean-100/2817/142371/2817-142371-0026.flac'),\n",
       "        PosixPath('../data/cleaned/LIBRISPEECH/LibriSpeech/train-clean-100/2817/142371/2817-142371-0008.flac'),\n",
       "        PosixPath('../data/cleaned/LIBRISPEECH/LibriSpeech/train-clean-100/2817/142371/2817-142371-0044.flac'),\n",
       "        PosixPath('../data/cleaned/LIBRISPEECH/LibriSpeech/train-clean-100/2817/142371/2817-142371-0013.flac'),\n",
       "        PosixPath('../data/cleaned/LIBRISPEECH/LibriSpeech/train-clean-100/2817/142371/2817-142371-0031.flac'),\n",
       "        PosixPath('../data/cleaned/LIBRISPEECH/LibriSpeech/train-clean-100/2817/142371/2817-142371-0022.flac'),\n",
       "        PosixPath('../data/cleaned/LIBRISPEECH/LibriSpeech/train-clean-100/2817/142371/2817-142371-0040.flac'),\n",
       "        PosixPath('../data/cleaned/LIBRISPEECH/LibriSpeech/train-clean-100/2817/142371/2817-142371-0004.flac'),\n",
       "        PosixPath('../data/cleaned/LIBRISPEECH/LibriSpeech/train-clean-100/2817/142371/2817-142371-0057.flac'),\n",
       "        PosixPath('../data/cleaned/LIBRISPEECH/LibriSpeech/train-clean-100/2817/142371/2817-142371-0039.flac'),\n",
       "        PosixPath('../data/cleaned/LIBRISPEECH/LibriSpeech/train-clean-100/2817/142371/2817-142371-0075.flac'),\n",
       "        PosixPath('../data/cleaned/LIBRISPEECH/LibriSpeech/train-clean-100/2817/142371/2817-142371-0066.flac'),\n",
       "        PosixPath('../data/cleaned/LIBRISPEECH/LibriSpeech/train-clean-100/2817/142371/2817-142371-0048.flac'),\n",
       "        PosixPath('../data/cleaned/LIBRISPEECH/LibriSpeech/train-clean-100/2817/142371/2817-142371-0078.flac'),\n",
       "        PosixPath('../data/cleaned/LIBRISPEECH/LibriSpeech/train-clean-100/2817/142371/2817-142371-0069.flac'),\n",
       "        PosixPath('../data/cleaned/LIBRISPEECH/LibriSpeech/train-clean-100/2817/142371/2817-142371-0025.flac'),\n",
       "        PosixPath('../data/cleaned/LIBRISPEECH/LibriSpeech/train-clean-100/2817/142371/2817-142371-0061.flac'),\n",
       "        PosixPath('../data/cleaned/LIBRISPEECH/LibriSpeech/train-clean-100/2817/142371/2817-142371-0043.flac'),\n",
       "        PosixPath('../data/cleaned/LIBRISPEECH/LibriSpeech/train-clean-100/2817/142371/2817-142371-0007.flac'),\n",
       "        PosixPath('../data/cleaned/LIBRISPEECH/LibriSpeech/train-clean-100/2817/142371/2817-142371-0034.flac'),\n",
       "        PosixPath('../data/cleaned/LIBRISPEECH/LibriSpeech/train-clean-100/2817/142371/2817-142371-0070.flac'),\n",
       "        PosixPath('../data/cleaned/LIBRISPEECH/LibriSpeech/train-clean-100/2817/142371/2817-142371-0052.flac'),\n",
       "        PosixPath('../data/cleaned/LIBRISPEECH/LibriSpeech/train-clean-100/2817/142371/2817-142371-0016.flac'),\n",
       "        PosixPath('../data/cleaned/LIBRISPEECH/LibriSpeech/train-clean-100/2817/142371/2817-142371-0021.flac'),\n",
       "        PosixPath('../data/cleaned/LIBRISPEECH/LibriSpeech/train-clean-100/2817/142371/2817-142371-0003.flac'),\n",
       "        PosixPath('../data/cleaned/LIBRISPEECH/LibriSpeech/train-clean-100/2817/142371/2817-142371-0030.flac'),\n",
       "        PosixPath('../data/cleaned/LIBRISPEECH/LibriSpeech/train-clean-100/2817/142371/2817-142371-0012.flac'),\n",
       "        PosixPath('../data/cleaned/LIBRISPEECH/LibriSpeech/train-clean-100/2817/142371/2817-142371-0065.flac'),\n",
       "        PosixPath('../data/cleaned/LIBRISPEECH/LibriSpeech/train-clean-100/2817/142371/2817-142371-0029.flac'),\n",
       "        PosixPath('../data/cleaned/LIBRISPEECH/LibriSpeech/train-clean-100/2817/142371/2817-142371-0047.flac'),\n",
       "        PosixPath('../data/cleaned/LIBRISPEECH/LibriSpeech/train-clean-100/2817/142371/2817-142371-0074.flac'),\n",
       "        PosixPath('../data/cleaned/LIBRISPEECH/LibriSpeech/train-clean-100/2817/142371/2817-142371-0038.flac'),\n",
       "        PosixPath('../data/cleaned/LIBRISPEECH/LibriSpeech/train-clean-100/2817/142371/2817-142371-0056.flac'),\n",
       "        PosixPath('../data/cleaned/LIBRISPEECH/LibriSpeech/train-clean-100/2817/142371/2817-142371-0001.flac'),\n",
       "        PosixPath('../data/cleaned/LIBRISPEECH/LibriSpeech/train-clean-100/2817/142371/2817-142371-0010.flac'),\n",
       "        PosixPath('../data/cleaned/LIBRISPEECH/LibriSpeech/train-clean-100/2817/142371/2817-142371-0009.flac'),\n",
       "        PosixPath('../data/cleaned/LIBRISPEECH/LibriSpeech/train-clean-100/2817/142371/2817-142371-0045.flac'),\n",
       "        PosixPath('../data/cleaned/LIBRISPEECH/LibriSpeech/train-clean-100/2817/142371/2817-142371-0027.flac'),\n",
       "        PosixPath('../data/cleaned/LIBRISPEECH/LibriSpeech/train-clean-100/2817/142371/2817-142371-0063.flac'),\n",
       "        PosixPath('../data/cleaned/LIBRISPEECH/LibriSpeech/train-clean-100/2817/142371/2817-142371-0018.flac'),\n",
       "        PosixPath('../data/cleaned/LIBRISPEECH/LibriSpeech/train-clean-100/2817/142371/2817-142371-0054.flac'),\n",
       "        PosixPath('../data/cleaned/LIBRISPEECH/LibriSpeech/train-clean-100/2817/142371/2817-142371-0036.flac'),\n",
       "        PosixPath('../data/cleaned/LIBRISPEECH/LibriSpeech/train-clean-100/2817/142371/2817-142371-0072.flac'),\n",
       "        PosixPath('../data/cleaned/LIBRISPEECH/LibriSpeech/train-clean-100/2817/142371/2817-142371-0041.flac'),\n",
       "        PosixPath('../data/cleaned/LIBRISPEECH/LibriSpeech/train-clean-100/2817/142371/2817-142371-0005.flac'),\n",
       "        PosixPath('../data/cleaned/LIBRISPEECH/LibriSpeech/train-clean-100/2817/142371/2817-142371-0023.flac'),\n",
       "        PosixPath('../data/cleaned/LIBRISPEECH/LibriSpeech/train-clean-100/2817/142371/2817-142371-0050.flac'),\n",
       "        PosixPath('../data/cleaned/LIBRISPEECH/LibriSpeech/train-clean-100/2817/142371/2817-142371-0014.flac'),\n",
       "        PosixPath('../data/cleaned/LIBRISPEECH/LibriSpeech/train-clean-100/2817/142371/2817-142371-0032.flac'),\n",
       "        PosixPath('../data/cleaned/LIBRISPEECH/LibriSpeech/train-clean-100/2817/142371/2817-142371-0049.flac'),\n",
       "        PosixPath('../data/cleaned/LIBRISPEECH/LibriSpeech/train-clean-100/2817/142371/2817-142371-0067.flac'),\n",
       "        PosixPath('../data/cleaned/LIBRISPEECH/LibriSpeech/train-clean-100/2817/142371/2817-142371-0058.flac'),\n",
       "        PosixPath('../data/cleaned/LIBRISPEECH/LibriSpeech/train-clean-100/2817/142371/2817-142371-0076.flac'),\n",
       "        PosixPath('../data/cleaned/LIBRISPEECH/LibriSpeech/train-clean-100/909/131041/909-131041-0015.flac'),\n",
       "        PosixPath('../data/cleaned/LIBRISPEECH/LibriSpeech/train-clean-100/909/131041/909-131041-0006.flac'),\n",
       "        PosixPath('../data/cleaned/LIBRISPEECH/LibriSpeech/train-clean-100/909/131041/909-131041-0024.flac'),\n",
       "        PosixPath('../data/cleaned/LIBRISPEECH/LibriSpeech/train-clean-100/909/131041/909-131041-0019.flac'),\n",
       "        PosixPath('../data/cleaned/LIBRISPEECH/LibriSpeech/train-clean-100/909/131041/909-131041-0028.flac'),\n",
       "        PosixPath('../data/cleaned/LIBRISPEECH/LibriSpeech/train-clean-100/909/131041/909-131041-0002.flac'),\n",
       "        PosixPath('../data/cleaned/LIBRISPEECH/LibriSpeech/train-clean-100/909/131041/909-131041-0020.flac'),\n",
       "        PosixPath('../data/cleaned/LIBRISPEECH/LibriSpeech/train-clean-100/909/131041/909-131041-0011.flac'),\n",
       "        PosixPath('../data/cleaned/LIBRISPEECH/LibriSpeech/train-clean-100/909/131041/909-131041-0017.flac'),\n",
       "        PosixPath('../data/cleaned/LIBRISPEECH/LibriSpeech/train-clean-100/909/131041/909-131041-0026.flac'),\n",
       "        PosixPath('../data/cleaned/LIBRISPEECH/LibriSpeech/train-clean-100/909/131041/909-131041-0008.flac'),\n",
       "        PosixPath('../data/cleaned/LIBRISPEECH/LibriSpeech/train-clean-100/909/131041/909-131041-0000.flac'),\n",
       "        PosixPath('../data/cleaned/LIBRISPEECH/LibriSpeech/train-clean-100/909/131041/909-131041-0022.flac'),\n",
       "        PosixPath('../data/cleaned/LIBRISPEECH/LibriSpeech/train-clean-100/909/131041/909-131041-0004.flac'),\n",
       "        PosixPath('../data/cleaned/LIBRISPEECH/LibriSpeech/train-clean-100/909/131041/909-131041-0031.flac'),\n",
       "        PosixPath('../data/cleaned/LIBRISPEECH/LibriSpeech/train-clean-100/909/131041/909-131041-0013.flac'),\n",
       "        PosixPath('../data/cleaned/LIBRISPEECH/LibriSpeech/train-clean-100/909/131041/909-131041-0025.flac'),\n",
       "        PosixPath('../data/cleaned/LIBRISPEECH/LibriSpeech/train-clean-100/909/131041/909-131041-0007.flac'),\n",
       "        PosixPath('../data/cleaned/LIBRISPEECH/LibriSpeech/train-clean-100/909/131041/909-131041-0016.flac'),\n",
       "        PosixPath('../data/cleaned/LIBRISPEECH/LibriSpeech/train-clean-100/909/131041/909-131041-0029.flac'),\n",
       "        PosixPath('../data/cleaned/LIBRISPEECH/LibriSpeech/train-clean-100/909/131041/909-131041-0030.flac'),\n",
       "        PosixPath('../data/cleaned/LIBRISPEECH/LibriSpeech/train-clean-100/909/131041/909-131041-0012.flac'),\n",
       "        PosixPath('../data/cleaned/LIBRISPEECH/LibriSpeech/train-clean-100/909/131041/909-131041-0003.flac'),\n",
       "        PosixPath('../data/cleaned/LIBRISPEECH/LibriSpeech/train-clean-100/909/131041/909-131041-0021.flac'),\n",
       "        PosixPath('../data/cleaned/LIBRISPEECH/LibriSpeech/train-clean-100/909/131041/909-131041-0009.flac'),\n",
       "        PosixPath('../data/cleaned/LIBRISPEECH/LibriSpeech/train-clean-100/909/131041/909-131041-0027.flac'),\n",
       "        PosixPath('../data/cleaned/LIBRISPEECH/LibriSpeech/train-clean-100/909/131041/909-131041-0018.flac'),\n",
       "        PosixPath('../data/cleaned/LIBRISPEECH/LibriSpeech/train-clean-100/909/131041/909-131041-0010.flac'),\n",
       "        PosixPath('../data/cleaned/LIBRISPEECH/LibriSpeech/train-clean-100/909/131041/909-131041-0001.flac'),\n",
       "        PosixPath('../data/cleaned/LIBRISPEECH/LibriSpeech/train-clean-100/909/131041/909-131041-0014.flac'),\n",
       "        PosixPath('../data/cleaned/LIBRISPEECH/LibriSpeech/train-clean-100/909/131041/909-131041-0023.flac'),\n",
       "        PosixPath('../data/cleaned/LIBRISPEECH/LibriSpeech/train-clean-100/909/131041/909-131041-0005.flac'),\n",
       "        PosixPath('../data/cleaned/LIBRISPEECH/LibriSpeech/train-clean-100/909/131045/909-131045-0011.flac'),\n",
       "        PosixPath('../data/cleaned/LIBRISPEECH/LibriSpeech/train-clean-100/909/131045/909-131045-0002.flac'),\n",
       "        PosixPath('../data/cleaned/LIBRISPEECH/LibriSpeech/train-clean-100/909/131045/909-131045-0020.flac'),\n",
       "        PosixPath('../data/cleaned/LIBRISPEECH/LibriSpeech/train-clean-100/909/131045/909-131045-0037.flac'),\n",
       "        PosixPath('../data/cleaned/LIBRISPEECH/LibriSpeech/train-clean-100/909/131045/909-131045-0019.flac'),\n",
       "        PosixPath('../data/cleaned/LIBRISPEECH/LibriSpeech/train-clean-100/909/131045/909-131045-0028.flac'),\n",
       "        PosixPath('../data/cleaned/LIBRISPEECH/LibriSpeech/train-clean-100/909/131045/909-131045-0033.flac'),\n",
       "        PosixPath('../data/cleaned/LIBRISPEECH/LibriSpeech/train-clean-100/909/131045/909-131045-0015.flac'),\n",
       "        PosixPath('../data/cleaned/LIBRISPEECH/LibriSpeech/train-clean-100/909/131045/909-131045-0006.flac'),\n",
       "        PosixPath('../data/cleaned/LIBRISPEECH/LibriSpeech/train-clean-100/909/131045/909-131045-0042.flac'),\n",
       "        PosixPath('../data/cleaned/LIBRISPEECH/LibriSpeech/train-clean-100/909/131045/909-131045-0024.flac'),\n",
       "        PosixPath('../data/cleaned/LIBRISPEECH/LibriSpeech/train-clean-100/909/131045/909-131045-0013.flac'),\n",
       "        PosixPath('../data/cleaned/LIBRISPEECH/LibriSpeech/train-clean-100/909/131045/909-131045-0031.flac'),\n",
       "        PosixPath('../data/cleaned/LIBRISPEECH/LibriSpeech/train-clean-100/909/131045/909-131045-0022.flac'),\n",
       "        PosixPath('../data/cleaned/LIBRISPEECH/LibriSpeech/train-clean-100/909/131045/909-131045-0040.flac'),\n",
       "        PosixPath('../data/cleaned/LIBRISPEECH/LibriSpeech/train-clean-100/909/131045/909-131045-0004.flac'),\n",
       "        PosixPath('../data/cleaned/LIBRISPEECH/LibriSpeech/train-clean-100/909/131045/909-131045-0039.flac'),\n",
       "        PosixPath('../data/cleaned/LIBRISPEECH/LibriSpeech/train-clean-100/909/131045/909-131045-0017.flac'),\n",
       "        PosixPath('../data/cleaned/LIBRISPEECH/LibriSpeech/train-clean-100/909/131045/909-131045-0035.flac'),\n",
       "        PosixPath('../data/cleaned/LIBRISPEECH/LibriSpeech/train-clean-100/909/131045/909-131045-0026.flac'),\n",
       "        PosixPath('../data/cleaned/LIBRISPEECH/LibriSpeech/train-clean-100/909/131045/909-131045-0008.flac'),\n",
       "        PosixPath('../data/cleaned/LIBRISPEECH/LibriSpeech/train-clean-100/909/131045/909-131045-0000.flac'),\n",
       "        PosixPath('../data/cleaned/LIBRISPEECH/LibriSpeech/train-clean-100/909/131045/909-131045-0021.flac'),\n",
       "        PosixPath('../data/cleaned/LIBRISPEECH/LibriSpeech/train-clean-100/909/131045/909-131045-0003.flac'),\n",
       "        PosixPath('../data/cleaned/LIBRISPEECH/LibriSpeech/train-clean-100/909/131045/909-131045-0030.flac'),\n",
       "        PosixPath('../data/cleaned/LIBRISPEECH/LibriSpeech/train-clean-100/909/131045/909-131045-0012.flac'),\n",
       "        PosixPath('../data/cleaned/LIBRISPEECH/LibriSpeech/train-clean-100/909/131045/909-131045-0029.flac'),\n",
       "        PosixPath('../data/cleaned/LIBRISPEECH/LibriSpeech/train-clean-100/909/131045/909-131045-0038.flac'),\n",
       "        PosixPath('../data/cleaned/LIBRISPEECH/LibriSpeech/train-clean-100/909/131045/909-131045-0025.flac'),\n",
       "        PosixPath('../data/cleaned/LIBRISPEECH/LibriSpeech/train-clean-100/909/131045/909-131045-0043.flac'),\n",
       "        PosixPath('../data/cleaned/LIBRISPEECH/LibriSpeech/train-clean-100/909/131045/909-131045-0007.flac'),\n",
       "        PosixPath('../data/cleaned/LIBRISPEECH/LibriSpeech/train-clean-100/909/131045/909-131045-0034.flac'),\n",
       "        PosixPath('../data/cleaned/LIBRISPEECH/LibriSpeech/train-clean-100/909/131045/909-131045-0016.flac'),\n",
       "        PosixPath('../data/cleaned/LIBRISPEECH/LibriSpeech/train-clean-100/909/131045/909-131045-0041.flac'),\n",
       "        PosixPath('../data/cleaned/LIBRISPEECH/LibriSpeech/train-clean-100/909/131045/909-131045-0005.flac'),\n",
       "        PosixPath('../data/cleaned/LIBRISPEECH/LibriSpeech/train-clean-100/909/131045/909-131045-0023.flac'),\n",
       "        PosixPath('../data/cleaned/LIBRISPEECH/LibriSpeech/train-clean-100/909/131045/909-131045-0014.flac'),\n",
       "        PosixPath('../data/cleaned/LIBRISPEECH/LibriSpeech/train-clean-100/909/131045/909-131045-0032.flac'),\n",
       "        PosixPath('../data/cleaned/LIBRISPEECH/LibriSpeech/train-clean-100/909/131045/909-131045-0009.flac'),\n",
       "        PosixPath('../data/cleaned/LIBRISPEECH/LibriSpeech/train-clean-100/909/131045/909-131045-0027.flac'),\n",
       "        PosixPath('../data/cleaned/LIBRISPEECH/LibriSpeech/train-clean-100/909/131045/909-131045-0018.flac'),\n",
       "        PosixPath('../data/cleaned/LIBRISPEECH/LibriSpeech/train-clean-100/909/131045/909-131045-0036.flac'),\n",
       "        PosixPath('../data/cleaned/LIBRISPEECH/LibriSpeech/train-clean-100/909/131045/909-131045-0010.flac'),\n",
       "        PosixPath('../data/cleaned/LIBRISPEECH/LibriSpeech/train-clean-100/909/131045/909-131045-0001.flac'),\n",
       "        PosixPath('../data/cleaned/LIBRISPEECH/LibriSpeech/train-clean-100/909/131044/909-131044-0003.flac'),\n",
       "        PosixPath('../data/cleaned/LIBRISPEECH/LibriSpeech/train-clean-100/909/131044/909-131044-0021.flac'),\n",
       "        PosixPath('../data/cleaned/LIBRISPEECH/LibriSpeech/train-clean-100/909/131044/909-131044-0012.flac'),\n",
       "        PosixPath('../data/cleaned/LIBRISPEECH/LibriSpeech/train-clean-100/909/131044/909-131044-0030.flac'),\n",
       "        PosixPath('../data/cleaned/LIBRISPEECH/LibriSpeech/train-clean-100/909/131044/909-131044-0029.flac'),\n",
       "        PosixPath('../data/cleaned/LIBRISPEECH/LibriSpeech/train-clean-100/909/131044/909-131044-0007.flac'),\n",
       "        PosixPath('../data/cleaned/LIBRISPEECH/LibriSpeech/train-clean-100/909/131044/909-131044-0025.flac'),\n",
       "        PosixPath('../data/cleaned/LIBRISPEECH/LibriSpeech/train-clean-100/909/131044/909-131044-0016.flac'),\n",
       "        PosixPath('../data/cleaned/LIBRISPEECH/LibriSpeech/train-clean-100/909/131044/909-131044-0023.flac'),\n",
       "        PosixPath('../data/cleaned/LIBRISPEECH/LibriSpeech/train-clean-100/909/131044/909-131044-0005.flac'),\n",
       "        PosixPath('../data/cleaned/LIBRISPEECH/LibriSpeech/train-clean-100/909/131044/909-131044-0032.flac'),\n",
       "        PosixPath('../data/cleaned/LIBRISPEECH/LibriSpeech/train-clean-100/909/131044/909-131044-0014.flac'),\n",
       "        PosixPath('../data/cleaned/LIBRISPEECH/LibriSpeech/train-clean-100/909/131044/909-131044-0027.flac'),\n",
       "        PosixPath('../data/cleaned/LIBRISPEECH/LibriSpeech/train-clean-100/909/131044/909-131044-0009.flac'),\n",
       "        PosixPath('../data/cleaned/LIBRISPEECH/LibriSpeech/train-clean-100/909/131044/909-131044-0018.flac'),\n",
       "        PosixPath('../data/cleaned/LIBRISPEECH/LibriSpeech/train-clean-100/909/131044/909-131044-0010.flac'),\n",
       "        PosixPath('../data/cleaned/LIBRISPEECH/LibriSpeech/train-clean-100/909/131044/909-131044-0001.flac'),\n",
       "        PosixPath('../data/cleaned/LIBRISPEECH/LibriSpeech/train-clean-100/909/131044/909-131044-0031.flac'),\n",
       "        PosixPath('../data/cleaned/LIBRISPEECH/LibriSpeech/train-clean-100/909/131044/909-131044-0013.flac'),\n",
       "        PosixPath('../data/cleaned/LIBRISPEECH/LibriSpeech/train-clean-100/909/131044/909-131044-0004.flac'),\n",
       "        PosixPath('../data/cleaned/LIBRISPEECH/LibriSpeech/train-clean-100/909/131044/909-131044-0022.flac'),\n",
       "        PosixPath('../data/cleaned/LIBRISPEECH/LibriSpeech/train-clean-100/909/131044/909-131044-0017.flac'),\n",
       "        PosixPath('../data/cleaned/LIBRISPEECH/LibriSpeech/train-clean-100/909/131044/909-131044-0008.flac'),\n",
       "        PosixPath('../data/cleaned/LIBRISPEECH/LibriSpeech/train-clean-100/909/131044/909-131044-0026.flac'),\n",
       "        PosixPath('../data/cleaned/LIBRISPEECH/LibriSpeech/train-clean-100/909/131044/909-131044-0000.flac'),\n",
       "        PosixPath('../data/cleaned/LIBRISPEECH/LibriSpeech/train-clean-100/909/131044/909-131044-0015.flac'),\n",
       "        PosixPath('../data/cleaned/LIBRISPEECH/LibriSpeech/train-clean-100/909/131044/909-131044-0033.flac'),\n",
       "        PosixPath('../data/cleaned/LIBRISPEECH/LibriSpeech/train-clean-100/909/131044/909-131044-0024.flac'),\n",
       "        PosixPath('../data/cleaned/LIBRISPEECH/LibriSpeech/train-clean-100/909/131044/909-131044-0006.flac'),\n",
       "        PosixPath('../data/cleaned/LIBRISPEECH/LibriSpeech/train-clean-100/909/131044/909-131044-0019.flac'),\n",
       "        PosixPath('../data/cleaned/LIBRISPEECH/LibriSpeech/train-clean-100/909/131044/909-131044-0028.flac'),\n",
       "        PosixPath('../data/cleaned/LIBRISPEECH/LibriSpeech/train-clean-100/909/131044/909-131044-0020.flac'),\n",
       "        PosixPath('../data/cleaned/LIBRISPEECH/LibriSpeech/train-clean-100/909/131044/909-131044-0002.flac'),\n",
       "        PosixPath('../data/cleaned/LIBRISPEECH/LibriSpeech/train-clean-100/909/131044/909-131044-0011.flac'),\n",
       "        PosixPath('../data/cleaned/LIBRISPEECH/LibriSpeech/train-clean-100/2952/408/2952-408-0013.flac'),\n",
       "        PosixPath('../data/cleaned/LIBRISPEECH/LibriSpeech/train-clean-100/2952/408/2952-408-0022.flac'),\n",
       "        PosixPath('../data/cleaned/LIBRISPEECH/LibriSpeech/train-clean-100/2952/408/2952-408-0004.flac'),\n",
       "        PosixPath('../data/cleaned/LIBRISPEECH/LibriSpeech/train-clean-100/2952/408/2952-408-0017.flac'),\n",
       "        PosixPath('../data/cleaned/LIBRISPEECH/LibriSpeech/train-clean-100/2952/408/2952-408-0026.flac'),\n",
       "        PosixPath('../data/cleaned/LIBRISPEECH/LibriSpeech/train-clean-100/2952/408/2952-408-0008.flac'),\n",
       "        PosixPath('../data/cleaned/LIBRISPEECH/LibriSpeech/train-clean-100/2952/408/2952-408-0000.flac'),\n",
       "        PosixPath('../data/cleaned/LIBRISPEECH/LibriSpeech/train-clean-100/2952/408/2952-408-0015.flac'),\n",
       "        PosixPath('../data/cleaned/LIBRISPEECH/LibriSpeech/train-clean-100/2952/408/2952-408-0006.flac'),\n",
       "        PosixPath('../data/cleaned/LIBRISPEECH/LibriSpeech/train-clean-100/2952/408/2952-408-0024.flac'),\n",
       "        PosixPath('../data/cleaned/LIBRISPEECH/LibriSpeech/train-clean-100/2952/408/2952-408-0019.flac'),\n",
       "        PosixPath('../data/cleaned/LIBRISPEECH/LibriSpeech/train-clean-100/2952/408/2952-408-0028.flac'),\n",
       "        PosixPath('../data/cleaned/LIBRISPEECH/LibriSpeech/train-clean-100/2952/408/2952-408-0002.flac'),\n",
       "        PosixPath('../data/cleaned/LIBRISPEECH/LibriSpeech/train-clean-100/2952/408/2952-408-0020.flac'),\n",
       "        PosixPath('../data/cleaned/LIBRISPEECH/LibriSpeech/train-clean-100/2952/408/2952-408-0011.flac'),\n",
       "        PosixPath('../data/cleaned/LIBRISPEECH/LibriSpeech/train-clean-100/2952/408/2952-408-0005.flac'),\n",
       "        PosixPath('../data/cleaned/LIBRISPEECH/LibriSpeech/train-clean-100/2952/408/2952-408-0023.flac'),\n",
       "        PosixPath('../data/cleaned/LIBRISPEECH/LibriSpeech/train-clean-100/2952/408/2952-408-0014.flac'),\n",
       "        PosixPath('../data/cleaned/LIBRISPEECH/LibriSpeech/train-clean-100/2952/408/2952-408-0009.flac'),\n",
       "        PosixPath('../data/cleaned/LIBRISPEECH/LibriSpeech/train-clean-100/2952/408/2952-408-0027.flac'),\n",
       "        PosixPath('../data/cleaned/LIBRISPEECH/LibriSpeech/train-clean-100/2952/408/2952-408-0018.flac'),\n",
       "        PosixPath('../data/cleaned/LIBRISPEECH/LibriSpeech/train-clean-100/2952/408/2952-408-0010.flac'),\n",
       "        PosixPath('../data/cleaned/LIBRISPEECH/LibriSpeech/train-clean-100/2952/408/2952-408-0001.flac'),\n",
       "        PosixPath('../data/cleaned/LIBRISPEECH/LibriSpeech/train-clean-100/2952/408/2952-408-0025.flac'),\n",
       "        PosixPath('../data/cleaned/LIBRISPEECH/LibriSpeech/train-clean-100/2952/408/2952-408-0007.flac'),\n",
       "        PosixPath('../data/cleaned/LIBRISPEECH/LibriSpeech/train-clean-100/2952/408/2952-408-0016.flac'),\n",
       "        PosixPath('../data/cleaned/LIBRISPEECH/LibriSpeech/train-clean-100/2952/408/2952-408-0029.flac'),\n",
       "        PosixPath('../data/cleaned/LIBRISPEECH/LibriSpeech/train-clean-100/2952/408/2952-408-0012.flac'),\n",
       "        PosixPath('../data/cleaned/LIBRISPEECH/LibriSpeech/train-clean-100/2952/408/2952-408-0003.flac'),\n",
       "        PosixPath('../data/cleaned/LIBRISPEECH/LibriSpeech/train-clean-100/2952/408/2952-408-0021.flac'),\n",
       "        PosixPath('../data/cleaned/LIBRISPEECH/LibriSpeech/train-clean-100/2952/410/2952-410-0038.flac'),\n",
       "        PosixPath('../data/cleaned/LIBRISPEECH/LibriSpeech/train-clean-100/2952/410/2952-410-0056.flac'),\n",
       "        PosixPath('../data/cleaned/LIBRISPEECH/LibriSpeech/train-clean-100/2952/410/2952-410-0047.flac'),\n",
       "        PosixPath('../data/cleaned/LIBRISPEECH/LibriSpeech/train-clean-100/2952/410/2952-410-0029.flac'),\n",
       "        PosixPath('../data/cleaned/LIBRISPEECH/LibriSpeech/train-clean-100/2952/410/2952-410-0003.flac'),\n",
       "        PosixPath('../data/cleaned/LIBRISPEECH/LibriSpeech/train-clean-100/2952/410/2952-410-0021.flac'),\n",
       "        PosixPath('../data/cleaned/LIBRISPEECH/LibriSpeech/train-clean-100/2952/410/2952-410-0012.flac'),\n",
       "        PosixPath('../data/cleaned/LIBRISPEECH/LibriSpeech/train-clean-100/2952/410/2952-410-0030.flac'),\n",
       "        PosixPath('../data/cleaned/LIBRISPEECH/LibriSpeech/train-clean-100/2952/410/2952-410-0043.flac'),\n",
       "        PosixPath('../data/cleaned/LIBRISPEECH/LibriSpeech/train-clean-100/2952/410/2952-410-0007.flac'),\n",
       "        PosixPath('../data/cleaned/LIBRISPEECH/LibriSpeech/train-clean-100/2952/410/2952-410-0025.flac'),\n",
       "        PosixPath('../data/cleaned/LIBRISPEECH/LibriSpeech/train-clean-100/2952/410/2952-410-0052.flac'),\n",
       "        PosixPath('../data/cleaned/LIBRISPEECH/LibriSpeech/train-clean-100/2952/410/2952-410-0016.flac'),\n",
       "        PosixPath('../data/cleaned/LIBRISPEECH/LibriSpeech/train-clean-100/2952/410/2952-410-0034.flac'),\n",
       "        PosixPath('../data/cleaned/LIBRISPEECH/LibriSpeech/train-clean-100/2952/410/2952-410-0058.flac'),\n",
       "        PosixPath('../data/cleaned/LIBRISPEECH/LibriSpeech/train-clean-100/2952/410/2952-410-0049.flac'),\n",
       "        PosixPath('../data/cleaned/LIBRISPEECH/LibriSpeech/train-clean-100/2952/410/2952-410-0023.flac'),\n",
       "        PosixPath('../data/cleaned/LIBRISPEECH/LibriSpeech/train-clean-100/2952/410/2952-410-0005.flac'),\n",
       "        PosixPath('../data/cleaned/LIBRISPEECH/LibriSpeech/train-clean-100/2952/410/2952-410-0041.flac'),\n",
       "        PosixPath('../data/cleaned/LIBRISPEECH/LibriSpeech/train-clean-100/2952/410/2952-410-0032.flac'),\n",
       "        PosixPath('../data/cleaned/LIBRISPEECH/LibriSpeech/train-clean-100/2952/410/2952-410-0014.flac'),\n",
       "        PosixPath('../data/cleaned/LIBRISPEECH/LibriSpeech/train-clean-100/2952/410/2952-410-0050.flac'),\n",
       "        PosixPath('../data/cleaned/LIBRISPEECH/LibriSpeech/train-clean-100/2952/410/2952-410-0001.flac'),\n",
       "        PosixPath('../data/cleaned/LIBRISPEECH/LibriSpeech/train-clean-100/2952/410/2952-410-0010.flac'),\n",
       "        PosixPath('../data/cleaned/LIBRISPEECH/LibriSpeech/train-clean-100/2952/410/2952-410-0027.flac'),\n",
       "        PosixPath('../data/cleaned/LIBRISPEECH/LibriSpeech/train-clean-100/2952/410/2952-410-0045.flac'),\n",
       "        PosixPath('../data/cleaned/LIBRISPEECH/LibriSpeech/train-clean-100/2952/410/2952-410-0009.flac'),\n",
       "        PosixPath('../data/cleaned/LIBRISPEECH/LibriSpeech/train-clean-100/2952/410/2952-410-0036.flac'),\n",
       "        PosixPath('../data/cleaned/LIBRISPEECH/LibriSpeech/train-clean-100/2952/410/2952-410-0054.flac'),\n",
       "        PosixPath('../data/cleaned/LIBRISPEECH/LibriSpeech/train-clean-100/2952/410/2952-410-0018.flac'),\n",
       "        PosixPath('../data/cleaned/LIBRISPEECH/LibriSpeech/train-clean-100/2952/410/2952-410-0048.flac'),\n",
       "        PosixPath('../data/cleaned/LIBRISPEECH/LibriSpeech/train-clean-100/2952/410/2952-410-0039.flac'),\n",
       "        PosixPath('../data/cleaned/LIBRISPEECH/LibriSpeech/train-clean-100/2952/410/2952-410-0057.flac'),\n",
       "        PosixPath('../data/cleaned/LIBRISPEECH/LibriSpeech/train-clean-100/2952/410/2952-410-0031.flac'),\n",
       "        PosixPath('../data/cleaned/LIBRISPEECH/LibriSpeech/train-clean-100/2952/410/2952-410-0013.flac'),\n",
       "        PosixPath('../data/cleaned/LIBRISPEECH/LibriSpeech/train-clean-100/2952/410/2952-410-0040.flac'),\n",
       "        PosixPath('../data/cleaned/LIBRISPEECH/LibriSpeech/train-clean-100/2952/410/2952-410-0004.flac'),\n",
       "        PosixPath('../data/cleaned/LIBRISPEECH/LibriSpeech/train-clean-100/2952/410/2952-410-0022.flac'),\n",
       "        PosixPath('../data/cleaned/LIBRISPEECH/LibriSpeech/train-clean-100/2952/410/2952-410-0000.flac'),\n",
       "        PosixPath('../data/cleaned/LIBRISPEECH/LibriSpeech/train-clean-100/2952/410/2952-410-0035.flac'),\n",
       "        PosixPath('../data/cleaned/LIBRISPEECH/LibriSpeech/train-clean-100/2952/410/2952-410-0017.flac'),\n",
       "        PosixPath('../data/cleaned/LIBRISPEECH/LibriSpeech/train-clean-100/2952/410/2952-410-0053.flac'),\n",
       "        PosixPath('../data/cleaned/LIBRISPEECH/LibriSpeech/train-clean-100/2952/410/2952-410-0008.flac'),\n",
       "        PosixPath('../data/cleaned/LIBRISPEECH/LibriSpeech/train-clean-100/2952/410/2952-410-0044.flac'),\n",
       "        PosixPath('../data/cleaned/LIBRISPEECH/LibriSpeech/train-clean-100/2952/410/2952-410-0026.flac'),\n",
       "        PosixPath('../data/cleaned/LIBRISPEECH/LibriSpeech/train-clean-100/2952/410/2952-410-0059.flac'),\n",
       "        PosixPath('../data/cleaned/LIBRISPEECH/LibriSpeech/train-clean-100/2952/410/2952-410-0015.flac'),\n",
       "        PosixPath('../data/cleaned/LIBRISPEECH/LibriSpeech/train-clean-100/2952/410/2952-410-0051.flac'),\n",
       "        PosixPath('../data/cleaned/LIBRISPEECH/LibriSpeech/train-clean-100/2952/410/2952-410-0033.flac'),\n",
       "        PosixPath('../data/cleaned/LIBRISPEECH/LibriSpeech/train-clean-100/2952/410/2952-410-0024.flac'),\n",
       "        PosixPath('../data/cleaned/LIBRISPEECH/LibriSpeech/train-clean-100/2952/410/2952-410-0060.flac'),\n",
       "        PosixPath('../data/cleaned/LIBRISPEECH/LibriSpeech/train-clean-100/2952/410/2952-410-0042.flac'),\n",
       "        PosixPath('../data/cleaned/LIBRISPEECH/LibriSpeech/train-clean-100/2952/410/2952-410-0006.flac'),\n",
       "        PosixPath('../data/cleaned/LIBRISPEECH/LibriSpeech/train-clean-100/2952/410/2952-410-0011.flac'),\n",
       "        PosixPath('../data/cleaned/LIBRISPEECH/LibriSpeech/train-clean-100/2952/410/2952-410-0020.flac'),\n",
       "        PosixPath('../data/cleaned/LIBRISPEECH/LibriSpeech/train-clean-100/2952/410/2952-410-0002.flac'),\n",
       "        PosixPath('../data/cleaned/LIBRISPEECH/LibriSpeech/train-clean-100/2952/410/2952-410-0055.flac'),\n",
       "        PosixPath('../data/cleaned/LIBRISPEECH/LibriSpeech/train-clean-100/2952/410/2952-410-0019.flac'),\n",
       "        PosixPath('../data/cleaned/LIBRISPEECH/LibriSpeech/train-clean-100/2952/410/2952-410-0037.flac'),\n",
       "        PosixPath('../data/cleaned/LIBRISPEECH/LibriSpeech/train-clean-100/2952/410/2952-410-0028.flac'),\n",
       "        PosixPath('../data/cleaned/LIBRISPEECH/LibriSpeech/train-clean-100/2952/410/2952-410-0046.flac'),\n",
       "        PosixPath('../data/cleaned/LIBRISPEECH/LibriSpeech/train-clean-100/2952/407/2952-407-0023.flac'),\n",
       "        PosixPath('../data/cleaned/LIBRISPEECH/LibriSpeech/train-clean-100/2952/407/2952-407-0005.flac'),\n",
       "        PosixPath('../data/cleaned/LIBRISPEECH/LibriSpeech/train-clean-100/2952/407/2952-407-0014.flac'),\n",
       "        PosixPath('../data/cleaned/LIBRISPEECH/LibriSpeech/train-clean-100/2952/407/2952-407-0027.flac'),\n",
       "        PosixPath('../data/cleaned/LIBRISPEECH/LibriSpeech/train-clean-100/2952/407/2952-407-0009.flac'),\n",
       "        PosixPath('../data/cleaned/LIBRISPEECH/LibriSpeech/train-clean-100/2952/407/2952-407-0018.flac'),\n",
       "        PosixPath('../data/cleaned/LIBRISPEECH/LibriSpeech/train-clean-100/2952/407/2952-407-0010.flac'),\n",
       "        PosixPath('../data/cleaned/LIBRISPEECH/LibriSpeech/train-clean-100/2952/407/2952-407-0001.flac'),\n",
       "        PosixPath('../data/cleaned/LIBRISPEECH/LibriSpeech/train-clean-100/2952/407/2952-407-0007.flac'),\n",
       "        PosixPath('../data/cleaned/LIBRISPEECH/LibriSpeech/train-clean-100/2952/407/2952-407-0025.flac'),\n",
       "        PosixPath('../data/cleaned/LIBRISPEECH/LibriSpeech/train-clean-100/2952/407/2952-407-0016.flac'),\n",
       "        PosixPath('../data/cleaned/LIBRISPEECH/LibriSpeech/train-clean-100/2952/407/2952-407-0012.flac'),\n",
       "        PosixPath('../data/cleaned/LIBRISPEECH/LibriSpeech/train-clean-100/2952/407/2952-407-0021.flac'),\n",
       "        PosixPath('../data/cleaned/LIBRISPEECH/LibriSpeech/train-clean-100/2952/407/2952-407-0003.flac'),\n",
       "        PosixPath('../data/cleaned/LIBRISPEECH/LibriSpeech/train-clean-100/2952/407/2952-407-0015.flac'),\n",
       "        PosixPath('../data/cleaned/LIBRISPEECH/LibriSpeech/train-clean-100/2952/407/2952-407-0024.flac'),\n",
       "        PosixPath('../data/cleaned/LIBRISPEECH/LibriSpeech/train-clean-100/2952/407/2952-407-0006.flac'),\n",
       "        PosixPath('../data/cleaned/LIBRISPEECH/LibriSpeech/train-clean-100/2952/407/2952-407-0019.flac'),\n",
       "        PosixPath('../data/cleaned/LIBRISPEECH/LibriSpeech/train-clean-100/2952/407/2952-407-0020.flac'),\n",
       "        PosixPath('../data/cleaned/LIBRISPEECH/LibriSpeech/train-clean-100/2952/407/2952-407-0002.flac'),\n",
       "        PosixPath('../data/cleaned/LIBRISPEECH/LibriSpeech/train-clean-100/2952/407/2952-407-0011.flac'),\n",
       "        PosixPath('../data/cleaned/LIBRISPEECH/LibriSpeech/train-clean-100/2952/407/2952-407-0017.flac'),\n",
       "        PosixPath('../data/cleaned/LIBRISPEECH/LibriSpeech/train-clean-100/2952/407/2952-407-0008.flac'),\n",
       "        PosixPath('../data/cleaned/LIBRISPEECH/LibriSpeech/train-clean-100/2952/407/2952-407-0026.flac'),\n",
       "        PosixPath('../data/cleaned/LIBRISPEECH/LibriSpeech/train-clean-100/2952/407/2952-407-0000.flac'),\n",
       "        PosixPath('../data/cleaned/LIBRISPEECH/LibriSpeech/train-clean-100/2952/407/2952-407-0004.flac'),\n",
       "        PosixPath('../data/cleaned/LIBRISPEECH/LibriSpeech/train-clean-100/2952/407/2952-407-0022.flac'),\n",
       "        PosixPath('../data/cleaned/LIBRISPEECH/LibriSpeech/train-clean-100/2952/407/2952-407-0013.flac'),\n",
       "        PosixPath('../data/cleaned/LIBRISPEECH/LibriSpeech/train-clean-100/5463/39174/5463-39174-0044.flac'),\n",
       "        PosixPath('../data/cleaned/LIBRISPEECH/LibriSpeech/train-clean-100/5463/39174/5463-39174-0008.flac'),\n",
       "        PosixPath('../data/cleaned/LIBRISPEECH/LibriSpeech/train-clean-100/5463/39174/5463-39174-0026.flac'),\n",
       "        PosixPath('../data/cleaned/LIBRISPEECH/LibriSpeech/train-clean-100/5463/39174/5463-39174-0017.flac'),\n",
       "        PosixPath('../data/cleaned/LIBRISPEECH/LibriSpeech/train-clean-100/5463/39174/5463-39174-0035.flac'),\n",
       "        PosixPath('../data/cleaned/LIBRISPEECH/LibriSpeech/train-clean-100/5463/39174/5463-39174-0000.flac'),\n",
       "        PosixPath('../data/cleaned/LIBRISPEECH/LibriSpeech/train-clean-100/5463/39174/5463-39174-0048.flac'),\n",
       "        PosixPath('../data/cleaned/LIBRISPEECH/LibriSpeech/train-clean-100/5463/39174/5463-39174-0039.flac'),\n",
       "        PosixPath('../data/cleaned/LIBRISPEECH/LibriSpeech/train-clean-100/5463/39174/5463-39174-0013.flac'),\n",
       "        PosixPath('../data/cleaned/LIBRISPEECH/LibriSpeech/train-clean-100/5463/39174/5463-39174-0031.flac'),\n",
       "        PosixPath('../data/cleaned/LIBRISPEECH/LibriSpeech/train-clean-100/5463/39174/5463-39174-0022.flac'),\n",
       "        PosixPath('../data/cleaned/LIBRISPEECH/LibriSpeech/train-clean-100/5463/39174/5463-39174-0040.flac'),\n",
       "        PosixPath('../data/cleaned/LIBRISPEECH/LibriSpeech/train-clean-100/5463/39174/5463-39174-0004.flac'),\n",
       "        PosixPath('../data/cleaned/LIBRISPEECH/LibriSpeech/train-clean-100/5463/39174/5463-39174-0028.flac'),\n",
       "        PosixPath('../data/cleaned/LIBRISPEECH/LibriSpeech/train-clean-100/5463/39174/5463-39174-0046.flac'),\n",
       "        PosixPath('../data/cleaned/LIBRISPEECH/LibriSpeech/train-clean-100/5463/39174/5463-39174-0037.flac'),\n",
       "        PosixPath('../data/cleaned/LIBRISPEECH/LibriSpeech/train-clean-100/5463/39174/5463-39174-0019.flac'),\n",
       "        PosixPath('../data/cleaned/LIBRISPEECH/LibriSpeech/train-clean-100/5463/39174/5463-39174-0011.flac'),\n",
       "        PosixPath('../data/cleaned/LIBRISPEECH/LibriSpeech/train-clean-100/5463/39174/5463-39174-0002.flac'),\n",
       "        PosixPath('../data/cleaned/LIBRISPEECH/LibriSpeech/train-clean-100/5463/39174/5463-39174-0020.flac'),\n",
       "        PosixPath('../data/cleaned/LIBRISPEECH/LibriSpeech/train-clean-100/5463/39174/5463-39174-0033.flac'),\n",
       "        PosixPath('../data/cleaned/LIBRISPEECH/LibriSpeech/train-clean-100/5463/39174/5463-39174-0015.flac'),\n",
       "        PosixPath('../data/cleaned/LIBRISPEECH/LibriSpeech/train-clean-100/5463/39174/5463-39174-0006.flac'),\n",
       "        PosixPath('../data/cleaned/LIBRISPEECH/LibriSpeech/train-clean-100/5463/39174/5463-39174-0042.flac'),\n",
       "        PosixPath('../data/cleaned/LIBRISPEECH/LibriSpeech/train-clean-100/5463/39174/5463-39174-0024.flac'),\n",
       "        PosixPath('../data/cleaned/LIBRISPEECH/LibriSpeech/train-clean-100/5463/39174/5463-39174-0036.flac'),\n",
       "        PosixPath('../data/cleaned/LIBRISPEECH/LibriSpeech/train-clean-100/5463/39174/5463-39174-0018.flac'),\n",
       "        PosixPath('../data/cleaned/LIBRISPEECH/LibriSpeech/train-clean-100/5463/39174/5463-39174-0009.flac'),\n",
       "        PosixPath('../data/cleaned/LIBRISPEECH/LibriSpeech/train-clean-100/5463/39174/5463-39174-0045.flac'),\n",
       "        PosixPath('../data/cleaned/LIBRISPEECH/LibriSpeech/train-clean-100/5463/39174/5463-39174-0027.flac'),\n",
       "        PosixPath('../data/cleaned/LIBRISPEECH/LibriSpeech/train-clean-100/5463/39174/5463-39174-0001.flac'),\n",
       "        PosixPath('../data/cleaned/LIBRISPEECH/LibriSpeech/train-clean-100/5463/39174/5463-39174-0010.flac'),\n",
       "        PosixPath('../data/cleaned/LIBRISPEECH/LibriSpeech/train-clean-100/5463/39174/5463-39174-0049.flac'),\n",
       "        PosixPath('../data/cleaned/LIBRISPEECH/LibriSpeech/train-clean-100/5463/39174/5463-39174-0041.flac'),\n",
       "        PosixPath('../data/cleaned/LIBRISPEECH/LibriSpeech/train-clean-100/5463/39174/5463-39174-0005.flac'),\n",
       "        PosixPath('../data/cleaned/LIBRISPEECH/LibriSpeech/train-clean-100/5463/39174/5463-39174-0023.flac'),\n",
       "        PosixPath('../data/cleaned/LIBRISPEECH/LibriSpeech/train-clean-100/5463/39174/5463-39174-0050.flac'),\n",
       "        PosixPath('../data/cleaned/LIBRISPEECH/LibriSpeech/train-clean-100/5463/39174/5463-39174-0014.flac'),\n",
       "        PosixPath('../data/cleaned/LIBRISPEECH/LibriSpeech/train-clean-100/5463/39174/5463-39174-0032.flac'),\n",
       "        PosixPath('../data/cleaned/LIBRISPEECH/LibriSpeech/train-clean-100/5463/39174/5463-39174-0038.flac'),\n",
       "        PosixPath('../data/cleaned/LIBRISPEECH/LibriSpeech/train-clean-100/5463/39174/5463-39174-0029.flac'),\n",
       "        PosixPath('../data/cleaned/LIBRISPEECH/LibriSpeech/train-clean-100/5463/39174/5463-39174-0047.flac'),\n",
       "        PosixPath('../data/cleaned/LIBRISPEECH/LibriSpeech/train-clean-100/5463/39174/5463-39174-0021.flac'),\n",
       "        PosixPath('../data/cleaned/LIBRISPEECH/LibriSpeech/train-clean-100/5463/39174/5463-39174-0003.flac'),\n",
       "        PosixPath('../data/cleaned/LIBRISPEECH/LibriSpeech/train-clean-100/5463/39174/5463-39174-0030.flac'),\n",
       "        PosixPath('../data/cleaned/LIBRISPEECH/LibriSpeech/train-clean-100/5463/39174/5463-39174-0012.flac'),\n",
       "        PosixPath('../data/cleaned/LIBRISPEECH/LibriSpeech/train-clean-100/5463/39174/5463-39174-0025.flac'),\n",
       "        PosixPath('../data/cleaned/LIBRISPEECH/LibriSpeech/train-clean-100/5463/39174/5463-39174-0043.flac'),\n",
       "        PosixPath('../data/cleaned/LIBRISPEECH/LibriSpeech/train-clean-100/5463/39174/5463-39174-0007.flac'),\n",
       "        PosixPath('../data/cleaned/LIBRISPEECH/LibriSpeech/train-clean-100/5463/39174/5463-39174-0034.flac'),\n",
       "        PosixPath('../data/cleaned/LIBRISPEECH/LibriSpeech/train-clean-100/5463/39174/5463-39174-0016.flac'),\n",
       "        PosixPath('../data/cleaned/LIBRISPEECH/LibriSpeech/train-clean-100/5463/39173/5463-39173-0018.flac'),\n",
       "        PosixPath('../data/cleaned/LIBRISPEECH/LibriSpeech/train-clean-100/5463/39173/5463-39173-0054.flac'),\n",
       "        PosixPath('../data/cleaned/LIBRISPEECH/LibriSpeech/train-clean-100/5463/39173/5463-39173-0036.flac'),\n",
       "        PosixPath('../data/cleaned/LIBRISPEECH/LibriSpeech/train-clean-100/5463/39173/5463-39173-0027.flac'),\n",
       "        PosixPath('../data/cleaned/LIBRISPEECH/LibriSpeech/train-clean-100/5463/39173/5463-39173-0063.flac'),\n",
       "        PosixPath('../data/cleaned/LIBRISPEECH/LibriSpeech/train-clean-100/5463/39173/5463-39173-0045.flac'),\n",
       "        PosixPath('../data/cleaned/LIBRISPEECH/LibriSpeech/train-clean-100/5463/39173/5463-39173-0009.flac'),\n",
       "        PosixPath('../data/cleaned/LIBRISPEECH/LibriSpeech/train-clean-100/5463/39173/5463-39173-0001.flac'),\n",
       "        PosixPath('../data/cleaned/LIBRISPEECH/LibriSpeech/train-clean-100/5463/39173/5463-39173-0010.flac'),\n",
       "        PosixPath('../data/cleaned/LIBRISPEECH/LibriSpeech/train-clean-100/5463/39173/5463-39173-0058.flac'),\n",
       "        PosixPath('../data/cleaned/LIBRISPEECH/LibriSpeech/train-clean-100/5463/39173/5463-39173-0049.flac'),\n",
       "        PosixPath('../data/cleaned/LIBRISPEECH/LibriSpeech/train-clean-100/5463/39173/5463-39173-0023.flac'),\n",
       "        PosixPath('../data/cleaned/LIBRISPEECH/LibriSpeech/train-clean-100/5463/39173/5463-39173-0005.flac'),\n",
       "        PosixPath('../data/cleaned/LIBRISPEECH/LibriSpeech/train-clean-100/5463/39173/5463-39173-0041.flac'),\n",
       "        PosixPath('../data/cleaned/LIBRISPEECH/LibriSpeech/train-clean-100/5463/39173/5463-39173-0032.flac'),\n",
       "        PosixPath('../data/cleaned/LIBRISPEECH/LibriSpeech/train-clean-100/5463/39173/5463-39173-0014.flac'),\n",
       "        PosixPath('../data/cleaned/LIBRISPEECH/LibriSpeech/train-clean-100/5463/39173/5463-39173-0050.flac'),\n",
       "        PosixPath('../data/cleaned/LIBRISPEECH/LibriSpeech/train-clean-100/5463/39173/5463-39173-0038.flac'),\n",
       "        PosixPath('../data/cleaned/LIBRISPEECH/LibriSpeech/train-clean-100/5463/39173/5463-39173-0056.flac'),\n",
       "        PosixPath('../data/cleaned/LIBRISPEECH/LibriSpeech/train-clean-100/5463/39173/5463-39173-0047.flac'),\n",
       "        PosixPath('../data/cleaned/LIBRISPEECH/LibriSpeech/train-clean-100/5463/39173/5463-39173-0029.flac'),\n",
       "        PosixPath('../data/cleaned/LIBRISPEECH/LibriSpeech/train-clean-100/5463/39173/5463-39173-0003.flac'),\n",
       "        PosixPath('../data/cleaned/LIBRISPEECH/LibriSpeech/train-clean-100/5463/39173/5463-39173-0021.flac'),\n",
       "        PosixPath('../data/cleaned/LIBRISPEECH/LibriSpeech/train-clean-100/5463/39173/5463-39173-0012.flac'),\n",
       "        PosixPath('../data/cleaned/LIBRISPEECH/LibriSpeech/train-clean-100/5463/39173/5463-39173-0030.flac'),\n",
       "        PosixPath('../data/cleaned/LIBRISPEECH/LibriSpeech/train-clean-100/5463/39173/5463-39173-0043.flac'),\n",
       "        PosixPath('../data/cleaned/LIBRISPEECH/LibriSpeech/train-clean-100/5463/39173/5463-39173-0007.flac'),\n",
       "        PosixPath('../data/cleaned/LIBRISPEECH/LibriSpeech/train-clean-100/5463/39173/5463-39173-0061.flac'),\n",
       "        PosixPath('../data/cleaned/LIBRISPEECH/LibriSpeech/train-clean-100/5463/39173/5463-39173-0025.flac'),\n",
       "        PosixPath('../data/cleaned/LIBRISPEECH/LibriSpeech/train-clean-100/5463/39173/5463-39173-0052.flac'),\n",
       "        PosixPath('../data/cleaned/LIBRISPEECH/LibriSpeech/train-clean-100/5463/39173/5463-39173-0016.flac'),\n",
       "        PosixPath('../data/cleaned/LIBRISPEECH/LibriSpeech/train-clean-100/5463/39173/5463-39173-0034.flac'),\n",
       "        PosixPath('../data/cleaned/LIBRISPEECH/LibriSpeech/train-clean-100/5463/39173/5463-39173-0046.flac'),\n",
       "        PosixPath('../data/cleaned/LIBRISPEECH/LibriSpeech/train-clean-100/5463/39173/5463-39173-0028.flac'),\n",
       "        PosixPath('../data/cleaned/LIBRISPEECH/LibriSpeech/train-clean-100/5463/39173/5463-39173-0055.flac'),\n",
       "        PosixPath('../data/cleaned/LIBRISPEECH/LibriSpeech/train-clean-100/5463/39173/5463-39173-0019.flac'),\n",
       "        PosixPath('../data/cleaned/LIBRISPEECH/LibriSpeech/train-clean-100/5463/39173/5463-39173-0037.flac'),\n",
       "        PosixPath('../data/cleaned/LIBRISPEECH/LibriSpeech/train-clean-100/5463/39173/5463-39173-0011.flac'),\n",
       "        PosixPath('../data/cleaned/LIBRISPEECH/LibriSpeech/train-clean-100/5463/39173/5463-39173-0020.flac'),\n",
       "        PosixPath('../data/cleaned/LIBRISPEECH/LibriSpeech/train-clean-100/5463/39173/5463-39173-0002.flac'),\n",
       "        PosixPath('../data/cleaned/LIBRISPEECH/LibriSpeech/train-clean-100/5463/39173/5463-39173-0059.flac'),\n",
       "        PosixPath('../data/cleaned/LIBRISPEECH/LibriSpeech/train-clean-100/5463/39173/5463-39173-0015.flac'),\n",
       "        PosixPath('../data/cleaned/LIBRISPEECH/LibriSpeech/train-clean-100/5463/39173/5463-39173-0051.flac'),\n",
       "        PosixPath('../data/cleaned/LIBRISPEECH/LibriSpeech/train-clean-100/5463/39173/5463-39173-0033.flac'),\n",
       "        PosixPath('../data/cleaned/LIBRISPEECH/LibriSpeech/train-clean-100/5463/39173/5463-39173-0024.flac'),\n",
       "        PosixPath('../data/cleaned/LIBRISPEECH/LibriSpeech/train-clean-100/5463/39173/5463-39173-0060.flac'),\n",
       "        PosixPath('../data/cleaned/LIBRISPEECH/LibriSpeech/train-clean-100/5463/39173/5463-39173-0042.flac'),\n",
       "        PosixPath('../data/cleaned/LIBRISPEECH/LibriSpeech/train-clean-100/5463/39173/5463-39173-0006.flac'),\n",
       "        PosixPath('../data/cleaned/LIBRISPEECH/LibriSpeech/train-clean-100/5463/39173/5463-39173-0048.flac'),\n",
       "        PosixPath('../data/cleaned/LIBRISPEECH/LibriSpeech/train-clean-100/5463/39173/5463-39173-0039.flac'),\n",
       "        PosixPath('../data/cleaned/LIBRISPEECH/LibriSpeech/train-clean-100/5463/39173/5463-39173-0057.flac'),\n",
       "        PosixPath('../data/cleaned/LIBRISPEECH/LibriSpeech/train-clean-100/5463/39173/5463-39173-0031.flac'),\n",
       "        PosixPath('../data/cleaned/LIBRISPEECH/LibriSpeech/train-clean-100/5463/39173/5463-39173-0013.flac'),\n",
       "        PosixPath('../data/cleaned/LIBRISPEECH/LibriSpeech/train-clean-100/5463/39173/5463-39173-0040.flac'),\n",
       "        PosixPath('../data/cleaned/LIBRISPEECH/LibriSpeech/train-clean-100/5463/39173/5463-39173-0004.flac'),\n",
       "        PosixPath('../data/cleaned/LIBRISPEECH/LibriSpeech/train-clean-100/5463/39173/5463-39173-0022.flac'),\n",
       "        PosixPath('../data/cleaned/LIBRISPEECH/LibriSpeech/train-clean-100/5463/39173/5463-39173-0000.flac'),\n",
       "        PosixPath('../data/cleaned/LIBRISPEECH/LibriSpeech/train-clean-100/5463/39173/5463-39173-0035.flac'),\n",
       "        PosixPath('../data/cleaned/LIBRISPEECH/LibriSpeech/train-clean-100/5463/39173/5463-39173-0017.flac'),\n",
       "        PosixPath('../data/cleaned/LIBRISPEECH/LibriSpeech/train-clean-100/5463/39173/5463-39173-0053.flac'),\n",
       "        PosixPath('../data/cleaned/LIBRISPEECH/LibriSpeech/train-clean-100/5463/39173/5463-39173-0008.flac'),\n",
       "        PosixPath('../data/cleaned/LIBRISPEECH/LibriSpeech/train-clean-100/5463/39173/5463-39173-0044.flac'),\n",
       "        PosixPath('../data/cleaned/LIBRISPEECH/LibriSpeech/train-clean-100/5463/39173/5463-39173-0026.flac'),\n",
       "        PosixPath('../data/cleaned/LIBRISPEECH/LibriSpeech/train-clean-100/5463/39173/5463-39173-0062.flac'),\n",
       "        PosixPath('../data/cleaned/LIBRISPEECH/LibriSpeech/train-clean-100/3807/4923/3807-4923-0015.flac'),\n",
       "        PosixPath('../data/cleaned/LIBRISPEECH/LibriSpeech/train-clean-100/3807/4923/3807-4923-0051.flac'),\n",
       "        PosixPath('../data/cleaned/LIBRISPEECH/LibriSpeech/train-clean-100/3807/4923/3807-4923-0033.flac'),\n",
       "        PosixPath('../data/cleaned/LIBRISPEECH/LibriSpeech/train-clean-100/3807/4923/3807-4923-0024.flac'),\n",
       "        PosixPath('../data/cleaned/LIBRISPEECH/LibriSpeech/train-clean-100/3807/4923/3807-4923-0042.flac'),\n",
       "        PosixPath('../data/cleaned/LIBRISPEECH/LibriSpeech/train-clean-100/3807/4923/3807-4923-0006.flac'),\n",
       "        PosixPath('../data/cleaned/LIBRISPEECH/LibriSpeech/train-clean-100/3807/4923/3807-4923-0011.flac'),\n",
       "        PosixPath('../data/cleaned/LIBRISPEECH/LibriSpeech/train-clean-100/3807/4923/3807-4923-0020.flac'),\n",
       "        PosixPath('../data/cleaned/LIBRISPEECH/LibriSpeech/train-clean-100/3807/4923/3807-4923-0002.flac'),\n",
       "        PosixPath('../data/cleaned/LIBRISPEECH/LibriSpeech/train-clean-100/3807/4923/3807-4923-0055.flac'),\n",
       "        PosixPath('../data/cleaned/LIBRISPEECH/LibriSpeech/train-clean-100/3807/4923/3807-4923-0019.flac'),\n",
       "        PosixPath('../data/cleaned/LIBRISPEECH/LibriSpeech/train-clean-100/3807/4923/3807-4923-0037.flac'),\n",
       "        PosixPath('../data/cleaned/LIBRISPEECH/LibriSpeech/train-clean-100/3807/4923/3807-4923-0028.flac'),\n",
       "        PosixPath('../data/cleaned/LIBRISPEECH/LibriSpeech/train-clean-100/3807/4923/3807-4923-0046.flac'),\n",
       "        PosixPath('../data/cleaned/LIBRISPEECH/LibriSpeech/train-clean-100/3807/4923/3807-4923-0000.flac'),\n",
       "        PosixPath('../data/cleaned/LIBRISPEECH/LibriSpeech/train-clean-100/3807/4923/3807-4923-0035.flac'),\n",
       "        PosixPath('../data/cleaned/LIBRISPEECH/LibriSpeech/train-clean-100/3807/4923/3807-4923-0017.flac'),\n",
       "        PosixPath('../data/cleaned/LIBRISPEECH/LibriSpeech/train-clean-100/3807/4923/3807-4923-0053.flac'),\n",
       "        PosixPath('../data/cleaned/LIBRISPEECH/LibriSpeech/train-clean-100/3807/4923/3807-4923-0008.flac'),\n",
       "        PosixPath('../data/cleaned/LIBRISPEECH/LibriSpeech/train-clean-100/3807/4923/3807-4923-0044.flac'),\n",
       "        PosixPath('../data/cleaned/LIBRISPEECH/LibriSpeech/train-clean-100/3807/4923/3807-4923-0026.flac'),\n",
       "        PosixPath('../data/cleaned/LIBRISPEECH/LibriSpeech/train-clean-100/3807/4923/3807-4923-0031.flac'),\n",
       "        PosixPath('../data/cleaned/LIBRISPEECH/LibriSpeech/train-clean-100/3807/4923/3807-4923-0013.flac'),\n",
       "        PosixPath('../data/cleaned/LIBRISPEECH/LibriSpeech/train-clean-100/3807/4923/3807-4923-0040.flac'),\n",
       "        PosixPath('../data/cleaned/LIBRISPEECH/LibriSpeech/train-clean-100/3807/4923/3807-4923-0004.flac'),\n",
       "        PosixPath('../data/cleaned/LIBRISPEECH/LibriSpeech/train-clean-100/3807/4923/3807-4923-0022.flac'),\n",
       "        PosixPath('../data/cleaned/LIBRISPEECH/LibriSpeech/train-clean-100/3807/4923/3807-4923-0039.flac'),\n",
       "        PosixPath('../data/cleaned/LIBRISPEECH/LibriSpeech/train-clean-100/3807/4923/3807-4923-0057.flac'),\n",
       "        PosixPath('../data/cleaned/LIBRISPEECH/LibriSpeech/train-clean-100/3807/4923/3807-4923-0048.flac'),\n",
       "        PosixPath('../data/cleaned/LIBRISPEECH/LibriSpeech/train-clean-100/3807/4923/3807-4923-0043.flac'),\n",
       "        PosixPath('../data/cleaned/LIBRISPEECH/LibriSpeech/train-clean-100/3807/4923/3807-4923-0007.flac'),\n",
       "        PosixPath('../data/cleaned/LIBRISPEECH/LibriSpeech/train-clean-100/3807/4923/3807-4923-0025.flac'),\n",
       "        PosixPath('../data/cleaned/LIBRISPEECH/LibriSpeech/train-clean-100/3807/4923/3807-4923-0052.flac'),\n",
       "        PosixPath('../data/cleaned/LIBRISPEECH/LibriSpeech/train-clean-100/3807/4923/3807-4923-0016.flac'),\n",
       "        PosixPath('../data/cleaned/LIBRISPEECH/LibriSpeech/train-clean-100/3807/4923/3807-4923-0034.flac'),\n",
       "        PosixPath('../data/cleaned/LIBRISPEECH/LibriSpeech/train-clean-100/3807/4923/3807-4923-0003.flac'),\n",
       "        PosixPath('../data/cleaned/LIBRISPEECH/LibriSpeech/train-clean-100/3807/4923/3807-4923-0021.flac'),\n",
       "        PosixPath('../data/cleaned/LIBRISPEECH/LibriSpeech/train-clean-100/3807/4923/3807-4923-0012.flac'),\n",
       "        PosixPath('../data/cleaned/LIBRISPEECH/LibriSpeech/train-clean-100/3807/4923/3807-4923-0030.flac'),\n",
       "        PosixPath('../data/cleaned/LIBRISPEECH/LibriSpeech/train-clean-100/3807/4923/3807-4923-0047.flac'),\n",
       "        PosixPath('../data/cleaned/LIBRISPEECH/LibriSpeech/train-clean-100/3807/4923/3807-4923-0029.flac'),\n",
       "        PosixPath('../data/cleaned/LIBRISPEECH/LibriSpeech/train-clean-100/3807/4923/3807-4923-0056.flac'),\n",
       "        PosixPath('../data/cleaned/LIBRISPEECH/LibriSpeech/train-clean-100/3807/4923/3807-4923-0038.flac'),\n",
       "        PosixPath('../data/cleaned/LIBRISPEECH/LibriSpeech/train-clean-100/3807/4923/3807-4923-0001.flac'),\n",
       "        PosixPath('../data/cleaned/LIBRISPEECH/LibriSpeech/train-clean-100/3807/4923/3807-4923-0010.flac'),\n",
       "        PosixPath('../data/cleaned/LIBRISPEECH/LibriSpeech/train-clean-100/3807/4923/3807-4923-0027.flac'),\n",
       "        PosixPath('../data/cleaned/LIBRISPEECH/LibriSpeech/train-clean-100/3807/4923/3807-4923-0045.flac'),\n",
       "        PosixPath('../data/cleaned/LIBRISPEECH/LibriSpeech/train-clean-100/3807/4923/3807-4923-0009.flac'),\n",
       "        PosixPath('../data/cleaned/LIBRISPEECH/LibriSpeech/train-clean-100/3807/4923/3807-4923-0036.flac'),\n",
       "        PosixPath('../data/cleaned/LIBRISPEECH/LibriSpeech/train-clean-100/3807/4923/3807-4923-0054.flac'),\n",
       "        PosixPath('../data/cleaned/LIBRISPEECH/LibriSpeech/train-clean-100/3807/4923/3807-4923-0018.flac'),\n",
       "        PosixPath('../data/cleaned/LIBRISPEECH/LibriSpeech/train-clean-100/3807/4923/3807-4923-0023.flac'),\n",
       "        PosixPath('../data/cleaned/LIBRISPEECH/LibriSpeech/train-clean-100/3807/4923/3807-4923-0005.flac'),\n",
       "        PosixPath('../data/cleaned/LIBRISPEECH/LibriSpeech/train-clean-100/3807/4923/3807-4923-0041.flac'),\n",
       "        PosixPath('../data/cleaned/LIBRISPEECH/LibriSpeech/train-clean-100/3807/4923/3807-4923-0032.flac'),\n",
       "        PosixPath('../data/cleaned/LIBRISPEECH/LibriSpeech/train-clean-100/3807/4923/3807-4923-0014.flac'),\n",
       "        PosixPath('../data/cleaned/LIBRISPEECH/LibriSpeech/train-clean-100/3807/4923/3807-4923-0050.flac'),\n",
       "        PosixPath('../data/cleaned/LIBRISPEECH/LibriSpeech/train-clean-100/3807/4923/3807-4923-0049.flac'),\n",
       "        PosixPath('../data/cleaned/LIBRISPEECH/LibriSpeech/train-clean-100/3807/4923/3807-4923-0058.flac'),\n",
       "        PosixPath('../data/cleaned/LIBRISPEECH/LibriSpeech/train-clean-100/3807/4955/3807-4955-0009.flac'),\n",
       "        PosixPath('../data/cleaned/LIBRISPEECH/LibriSpeech/train-clean-100/3807/4955/3807-4955-0027.flac'),\n",
       "        PosixPath('../data/cleaned/LIBRISPEECH/LibriSpeech/train-clean-100/3807/4955/3807-4955-0018.flac'),\n",
       "        PosixPath('../data/cleaned/LIBRISPEECH/LibriSpeech/train-clean-100/3807/4955/3807-4955-0036.flac'),\n",
       "        PosixPath('../data/cleaned/LIBRISPEECH/LibriSpeech/train-clean-100/3807/4955/3807-4955-0010.flac'),\n",
       "        PosixPath('../data/cleaned/LIBRISPEECH/LibriSpeech/train-clean-100/3807/4955/3807-4955-0001.flac'),\n",
       "        PosixPath('../data/cleaned/LIBRISPEECH/LibriSpeech/train-clean-100/3807/4955/3807-4955-0014.flac'),\n",
       "        PosixPath('../data/cleaned/LIBRISPEECH/LibriSpeech/train-clean-100/3807/4955/3807-4955-0032.flac'),\n",
       "        PosixPath('../data/cleaned/LIBRISPEECH/LibriSpeech/train-clean-100/3807/4955/3807-4955-0023.flac'),\n",
       "        PosixPath('../data/cleaned/LIBRISPEECH/LibriSpeech/train-clean-100/3807/4955/3807-4955-0005.flac'),\n",
       "        PosixPath('../data/cleaned/LIBRISPEECH/LibriSpeech/train-clean-100/3807/4955/3807-4955-0029.flac'),\n",
       "        PosixPath('../data/cleaned/LIBRISPEECH/LibriSpeech/train-clean-100/3807/4955/3807-4955-0038.flac'),\n",
       "        PosixPath('../data/cleaned/LIBRISPEECH/LibriSpeech/train-clean-100/3807/4955/3807-4955-0030.flac'),\n",
       "        PosixPath('../data/cleaned/LIBRISPEECH/LibriSpeech/train-clean-100/3807/4955/3807-4955-0012.flac'),\n",
       "        PosixPath('../data/cleaned/LIBRISPEECH/LibriSpeech/train-clean-100/3807/4955/3807-4955-0003.flac'),\n",
       "        PosixPath('../data/cleaned/LIBRISPEECH/LibriSpeech/train-clean-100/3807/4955/3807-4955-0021.flac'),\n",
       "        PosixPath('../data/cleaned/LIBRISPEECH/LibriSpeech/train-clean-100/3807/4955/3807-4955-0034.flac'),\n",
       "        PosixPath('../data/cleaned/LIBRISPEECH/LibriSpeech/train-clean-100/3807/4955/3807-4955-0016.flac'),\n",
       "        PosixPath('../data/cleaned/LIBRISPEECH/LibriSpeech/train-clean-100/3807/4955/3807-4955-0007.flac'),\n",
       "        PosixPath('../data/cleaned/LIBRISPEECH/LibriSpeech/train-clean-100/3807/4955/3807-4955-0025.flac'),\n",
       "        PosixPath('../data/cleaned/LIBRISPEECH/LibriSpeech/train-clean-100/3807/4955/3807-4955-0037.flac'),\n",
       "        PosixPath('../data/cleaned/LIBRISPEECH/LibriSpeech/train-clean-100/3807/4955/3807-4955-0019.flac'),\n",
       "        PosixPath('../data/cleaned/LIBRISPEECH/LibriSpeech/train-clean-100/3807/4955/3807-4955-0028.flac'),\n",
       "        PosixPath('../data/cleaned/LIBRISPEECH/LibriSpeech/train-clean-100/3807/4955/3807-4955-0002.flac'),\n",
       "        PosixPath('../data/cleaned/LIBRISPEECH/LibriSpeech/train-clean-100/3807/4955/3807-4955-0020.flac'),\n",
       "        PosixPath('../data/cleaned/LIBRISPEECH/LibriSpeech/train-clean-100/3807/4955/3807-4955-0011.flac'),\n",
       "        PosixPath('../data/cleaned/LIBRISPEECH/LibriSpeech/train-clean-100/3807/4955/3807-4955-0006.flac'),\n",
       "        PosixPath('../data/cleaned/LIBRISPEECH/LibriSpeech/train-clean-100/3807/4955/3807-4955-0024.flac'),\n",
       "        PosixPath('../data/cleaned/LIBRISPEECH/LibriSpeech/train-clean-100/3807/4955/3807-4955-0015.flac'),\n",
       "        PosixPath('../data/cleaned/LIBRISPEECH/LibriSpeech/train-clean-100/3807/4955/3807-4955-0033.flac'),\n",
       "        PosixPath('../data/cleaned/LIBRISPEECH/LibriSpeech/train-clean-100/3807/4955/3807-4955-0039.flac'),\n",
       "        PosixPath('../data/cleaned/LIBRISPEECH/LibriSpeech/train-clean-100/3807/4955/3807-4955-0022.flac'),\n",
       "        PosixPath('../data/cleaned/LIBRISPEECH/LibriSpeech/train-clean-100/3807/4955/3807-4955-0004.flac'),\n",
       "        PosixPath('../data/cleaned/LIBRISPEECH/LibriSpeech/train-clean-100/3807/4955/3807-4955-0031.flac'),\n",
       "        PosixPath('../data/cleaned/LIBRISPEECH/LibriSpeech/train-clean-100/3807/4955/3807-4955-0013.flac'),\n",
       "        PosixPath('../data/cleaned/LIBRISPEECH/LibriSpeech/train-clean-100/3807/4955/3807-4955-0000.flac'),\n",
       "        PosixPath('../data/cleaned/LIBRISPEECH/LibriSpeech/train-clean-100/3807/4955/3807-4955-0026.flac'),\n",
       "        PosixPath('../data/cleaned/LIBRISPEECH/LibriSpeech/train-clean-100/3807/4955/3807-4955-0008.flac'),\n",
       "        PosixPath('../data/cleaned/LIBRISPEECH/LibriSpeech/train-clean-100/3807/4955/3807-4955-0035.flac'),\n",
       "        PosixPath('../data/cleaned/LIBRISPEECH/LibriSpeech/train-clean-100/3807/4955/3807-4955-0017.flac')],\n",
       "       dtype=object),\n",
       " 'train_noise': array([PosixPath('../data/cleaned/DEMAND/OMEETING/ch09.wav'),\n",
       "        PosixPath('../data/cleaned/DEMAND/OMEETING/ch01.wav'),\n",
       "        PosixPath('../data/cleaned/DEMAND/OMEETING/ch10.wav'),\n",
       "        PosixPath('../data/cleaned/DEMAND/OMEETING/ch05.wav'),\n",
       "        PosixPath('../data/cleaned/DEMAND/OMEETING/ch14.wav'),\n",
       "        PosixPath('../data/cleaned/DEMAND/OMEETING/ch03.wav'),\n",
       "        PosixPath('../data/cleaned/DEMAND/OMEETING/ch12.wav'),\n",
       "        PosixPath('../data/cleaned/DEMAND/OMEETING/ch07.wav'),\n",
       "        PosixPath('../data/cleaned/DEMAND/OMEETING/ch16.wav'),\n",
       "        PosixPath('../data/cleaned/DEMAND/OMEETING/ch02.wav'),\n",
       "        PosixPath('../data/cleaned/DEMAND/OMEETING/ch11.wav'),\n",
       "        PosixPath('../data/cleaned/DEMAND/OMEETING/ch06.wav'),\n",
       "        PosixPath('../data/cleaned/DEMAND/OMEETING/ch15.wav'),\n",
       "        PosixPath('../data/cleaned/DEMAND/OMEETING/ch04.wav'),\n",
       "        PosixPath('../data/cleaned/DEMAND/OMEETING/ch13.wav'),\n",
       "        PosixPath('../data/cleaned/DEMAND/OMEETING/ch08.wav'),\n",
       "        PosixPath('../data/cleaned/DEMAND/SPSQUARE/ch09.wav'),\n",
       "        PosixPath('../data/cleaned/DEMAND/SPSQUARE/ch01.wav'),\n",
       "        PosixPath('../data/cleaned/DEMAND/SPSQUARE/ch10.wav'),\n",
       "        PosixPath('../data/cleaned/DEMAND/SPSQUARE/ch05.wav'),\n",
       "        PosixPath('../data/cleaned/DEMAND/SPSQUARE/ch14.wav'),\n",
       "        PosixPath('../data/cleaned/DEMAND/SPSQUARE/ch03.wav'),\n",
       "        PosixPath('../data/cleaned/DEMAND/SPSQUARE/ch12.wav'),\n",
       "        PosixPath('../data/cleaned/DEMAND/SPSQUARE/ch07.wav'),\n",
       "        PosixPath('../data/cleaned/DEMAND/SPSQUARE/ch16.wav'),\n",
       "        PosixPath('../data/cleaned/DEMAND/SPSQUARE/ch02.wav'),\n",
       "        PosixPath('../data/cleaned/DEMAND/SPSQUARE/ch11.wav'),\n",
       "        PosixPath('../data/cleaned/DEMAND/SPSQUARE/ch06.wav'),\n",
       "        PosixPath('../data/cleaned/DEMAND/SPSQUARE/ch15.wav'),\n",
       "        PosixPath('../data/cleaned/DEMAND/SPSQUARE/ch04.wav'),\n",
       "        PosixPath('../data/cleaned/DEMAND/SPSQUARE/ch13.wav'),\n",
       "        PosixPath('../data/cleaned/DEMAND/SPSQUARE/ch08.wav'),\n",
       "        PosixPath('../data/cleaned/DEMAND/NPARK/ch09.wav'),\n",
       "        PosixPath('../data/cleaned/DEMAND/NPARK/ch01.wav'),\n",
       "        PosixPath('../data/cleaned/DEMAND/NPARK/ch10.wav'),\n",
       "        PosixPath('../data/cleaned/DEMAND/NPARK/ch05.wav'),\n",
       "        PosixPath('../data/cleaned/DEMAND/NPARK/ch14.wav'),\n",
       "        PosixPath('../data/cleaned/DEMAND/NPARK/ch03.wav'),\n",
       "        PosixPath('../data/cleaned/DEMAND/NPARK/ch12.wav'),\n",
       "        PosixPath('../data/cleaned/DEMAND/NPARK/ch07.wav'),\n",
       "        PosixPath('../data/cleaned/DEMAND/NPARK/ch16.wav'),\n",
       "        PosixPath('../data/cleaned/DEMAND/NPARK/ch02.wav'),\n",
       "        PosixPath('../data/cleaned/DEMAND/NPARK/ch11.wav'),\n",
       "        PosixPath('../data/cleaned/DEMAND/NPARK/ch06.wav'),\n",
       "        PosixPath('../data/cleaned/DEMAND/NPARK/ch15.wav'),\n",
       "        PosixPath('../data/cleaned/DEMAND/NPARK/ch04.wav'),\n",
       "        PosixPath('../data/cleaned/DEMAND/NPARK/ch13.wav'),\n",
       "        PosixPath('../data/cleaned/DEMAND/NPARK/ch08.wav'),\n",
       "        PosixPath('../data/cleaned/DEMAND/NFIELD/ch09.wav'),\n",
       "        PosixPath('../data/cleaned/DEMAND/NFIELD/ch01.wav'),\n",
       "        PosixPath('../data/cleaned/DEMAND/NFIELD/ch10.wav'),\n",
       "        PosixPath('../data/cleaned/DEMAND/NFIELD/ch05.wav'),\n",
       "        PosixPath('../data/cleaned/DEMAND/NFIELD/ch14.wav'),\n",
       "        PosixPath('../data/cleaned/DEMAND/NFIELD/ch03.wav'),\n",
       "        PosixPath('../data/cleaned/DEMAND/NFIELD/ch12.wav'),\n",
       "        PosixPath('../data/cleaned/DEMAND/NFIELD/ch07.wav'),\n",
       "        PosixPath('../data/cleaned/DEMAND/NFIELD/ch16.wav'),\n",
       "        PosixPath('../data/cleaned/DEMAND/NFIELD/ch02.wav'),\n",
       "        PosixPath('../data/cleaned/DEMAND/NFIELD/ch11.wav'),\n",
       "        PosixPath('../data/cleaned/DEMAND/NFIELD/ch06.wav'),\n",
       "        PosixPath('../data/cleaned/DEMAND/NFIELD/ch15.wav'),\n",
       "        PosixPath('../data/cleaned/DEMAND/NFIELD/ch04.wav'),\n",
       "        PosixPath('../data/cleaned/DEMAND/NFIELD/ch13.wav'),\n",
       "        PosixPath('../data/cleaned/DEMAND/NFIELD/ch08.wav'),\n",
       "        PosixPath('../data/cleaned/DEMAND/PSTATION/ch09.wav'),\n",
       "        PosixPath('../data/cleaned/DEMAND/PSTATION/ch01.wav'),\n",
       "        PosixPath('../data/cleaned/DEMAND/PSTATION/ch10.wav'),\n",
       "        PosixPath('../data/cleaned/DEMAND/PSTATION/ch05.wav'),\n",
       "        PosixPath('../data/cleaned/DEMAND/PSTATION/ch14.wav'),\n",
       "        PosixPath('../data/cleaned/DEMAND/PSTATION/ch03.wav'),\n",
       "        PosixPath('../data/cleaned/DEMAND/PSTATION/ch12.wav'),\n",
       "        PosixPath('../data/cleaned/DEMAND/PSTATION/ch07.wav'),\n",
       "        PosixPath('../data/cleaned/DEMAND/PSTATION/ch16.wav'),\n",
       "        PosixPath('../data/cleaned/DEMAND/PSTATION/ch02.wav'),\n",
       "        PosixPath('../data/cleaned/DEMAND/PSTATION/ch11.wav'),\n",
       "        PosixPath('../data/cleaned/DEMAND/PSTATION/ch06.wav'),\n",
       "        PosixPath('../data/cleaned/DEMAND/PSTATION/ch15.wav'),\n",
       "        PosixPath('../data/cleaned/DEMAND/PSTATION/ch04.wav'),\n",
       "        PosixPath('../data/cleaned/DEMAND/PSTATION/ch13.wav'),\n",
       "        PosixPath('../data/cleaned/DEMAND/PSTATION/ch08.wav'),\n",
       "        PosixPath('../data/cleaned/DEMAND/SCAFE/ch09.wav'),\n",
       "        PosixPath('../data/cleaned/DEMAND/SCAFE/ch01.wav'),\n",
       "        PosixPath('../data/cleaned/DEMAND/SCAFE/ch10.wav'),\n",
       "        PosixPath('../data/cleaned/DEMAND/SCAFE/ch05.wav'),\n",
       "        PosixPath('../data/cleaned/DEMAND/SCAFE/ch14.wav'),\n",
       "        PosixPath('../data/cleaned/DEMAND/SCAFE/ch03.wav'),\n",
       "        PosixPath('../data/cleaned/DEMAND/SCAFE/ch12.wav'),\n",
       "        PosixPath('../data/cleaned/DEMAND/SCAFE/ch07.wav'),\n",
       "        PosixPath('../data/cleaned/DEMAND/SCAFE/ch16.wav'),\n",
       "        PosixPath('../data/cleaned/DEMAND/SCAFE/ch02.wav'),\n",
       "        PosixPath('../data/cleaned/DEMAND/SCAFE/ch11.wav'),\n",
       "        PosixPath('../data/cleaned/DEMAND/SCAFE/ch06.wav'),\n",
       "        PosixPath('../data/cleaned/DEMAND/SCAFE/ch15.wav'),\n",
       "        PosixPath('../data/cleaned/DEMAND/SCAFE/ch04.wav'),\n",
       "        PosixPath('../data/cleaned/DEMAND/SCAFE/ch13.wav'),\n",
       "        PosixPath('../data/cleaned/DEMAND/SCAFE/ch08.wav'),\n",
       "        PosixPath('../data/cleaned/DEMAND/STRAFFIC/ch09.wav'),\n",
       "        PosixPath('../data/cleaned/DEMAND/STRAFFIC/ch01.wav'),\n",
       "        PosixPath('../data/cleaned/DEMAND/STRAFFIC/ch10.wav'),\n",
       "        PosixPath('../data/cleaned/DEMAND/STRAFFIC/ch05.wav'),\n",
       "        PosixPath('../data/cleaned/DEMAND/STRAFFIC/ch14.wav'),\n",
       "        PosixPath('../data/cleaned/DEMAND/STRAFFIC/ch03.wav'),\n",
       "        PosixPath('../data/cleaned/DEMAND/STRAFFIC/ch12.wav'),\n",
       "        PosixPath('../data/cleaned/DEMAND/STRAFFIC/ch07.wav'),\n",
       "        PosixPath('../data/cleaned/DEMAND/STRAFFIC/ch16.wav'),\n",
       "        PosixPath('../data/cleaned/DEMAND/STRAFFIC/ch02.wav'),\n",
       "        PosixPath('../data/cleaned/DEMAND/STRAFFIC/ch11.wav'),\n",
       "        PosixPath('../data/cleaned/DEMAND/STRAFFIC/ch06.wav'),\n",
       "        PosixPath('../data/cleaned/DEMAND/STRAFFIC/ch15.wav'),\n",
       "        PosixPath('../data/cleaned/DEMAND/STRAFFIC/ch04.wav'),\n",
       "        PosixPath('../data/cleaned/DEMAND/STRAFFIC/ch13.wav'),\n",
       "        PosixPath('../data/cleaned/DEMAND/STRAFFIC/ch08.wav'),\n",
       "        PosixPath('../data/cleaned/DEMAND/TCAR/ch09.wav'),\n",
       "        PosixPath('../data/cleaned/DEMAND/TCAR/ch01.wav'),\n",
       "        PosixPath('../data/cleaned/DEMAND/TCAR/ch10.wav'),\n",
       "        PosixPath('../data/cleaned/DEMAND/TCAR/ch05.wav'),\n",
       "        PosixPath('../data/cleaned/DEMAND/TCAR/ch14.wav'),\n",
       "        PosixPath('../data/cleaned/DEMAND/TCAR/ch03.wav'),\n",
       "        PosixPath('../data/cleaned/DEMAND/TCAR/ch12.wav'),\n",
       "        PosixPath('../data/cleaned/DEMAND/TCAR/ch07.wav'),\n",
       "        PosixPath('../data/cleaned/DEMAND/TCAR/ch16.wav'),\n",
       "        PosixPath('../data/cleaned/DEMAND/TCAR/ch02.wav'),\n",
       "        PosixPath('../data/cleaned/DEMAND/TCAR/ch11.wav'),\n",
       "        PosixPath('../data/cleaned/DEMAND/TCAR/ch06.wav'),\n",
       "        PosixPath('../data/cleaned/DEMAND/TCAR/ch15.wav'),\n",
       "        PosixPath('../data/cleaned/DEMAND/TCAR/ch04.wav'),\n",
       "        PosixPath('../data/cleaned/DEMAND/TCAR/ch13.wav'),\n",
       "        PosixPath('../data/cleaned/DEMAND/TCAR/ch08.wav')], dtype=object),\n",
       " 'test_noise': array([PosixPath('../data/cleaned/DEMAND/DKITCHEN/ch09.wav'),\n",
       "        PosixPath('../data/cleaned/DEMAND/DKITCHEN/ch01.wav'),\n",
       "        PosixPath('../data/cleaned/DEMAND/DKITCHEN/ch10.wav'),\n",
       "        PosixPath('../data/cleaned/DEMAND/DKITCHEN/ch05.wav'),\n",
       "        PosixPath('../data/cleaned/DEMAND/DKITCHEN/ch14.wav'),\n",
       "        PosixPath('../data/cleaned/DEMAND/DKITCHEN/ch03.wav'),\n",
       "        PosixPath('../data/cleaned/DEMAND/DKITCHEN/ch12.wav'),\n",
       "        PosixPath('../data/cleaned/DEMAND/DKITCHEN/ch07.wav'),\n",
       "        PosixPath('../data/cleaned/DEMAND/DKITCHEN/ch16.wav'),\n",
       "        PosixPath('../data/cleaned/DEMAND/DKITCHEN/ch02.wav'),\n",
       "        PosixPath('../data/cleaned/DEMAND/DKITCHEN/ch11.wav'),\n",
       "        PosixPath('../data/cleaned/DEMAND/DKITCHEN/ch06.wav'),\n",
       "        PosixPath('../data/cleaned/DEMAND/DKITCHEN/ch15.wav'),\n",
       "        PosixPath('../data/cleaned/DEMAND/DKITCHEN/ch04.wav'),\n",
       "        PosixPath('../data/cleaned/DEMAND/DKITCHEN/ch13.wav'),\n",
       "        PosixPath('../data/cleaned/DEMAND/DKITCHEN/ch08.wav'),\n",
       "        PosixPath('../data/cleaned/DEMAND/PCAFETER/ch09.wav'),\n",
       "        PosixPath('../data/cleaned/DEMAND/PCAFETER/ch01.wav'),\n",
       "        PosixPath('../data/cleaned/DEMAND/PCAFETER/ch10.wav'),\n",
       "        PosixPath('../data/cleaned/DEMAND/PCAFETER/ch05.wav'),\n",
       "        PosixPath('../data/cleaned/DEMAND/PCAFETER/ch14.wav'),\n",
       "        PosixPath('../data/cleaned/DEMAND/PCAFETER/ch03.wav'),\n",
       "        PosixPath('../data/cleaned/DEMAND/PCAFETER/ch12.wav'),\n",
       "        PosixPath('../data/cleaned/DEMAND/PCAFETER/ch07.wav'),\n",
       "        PosixPath('../data/cleaned/DEMAND/PCAFETER/ch16.wav'),\n",
       "        PosixPath('../data/cleaned/DEMAND/PCAFETER/ch02.wav'),\n",
       "        PosixPath('../data/cleaned/DEMAND/PCAFETER/ch11.wav'),\n",
       "        PosixPath('../data/cleaned/DEMAND/PCAFETER/ch06.wav'),\n",
       "        PosixPath('../data/cleaned/DEMAND/PCAFETER/ch15.wav'),\n",
       "        PosixPath('../data/cleaned/DEMAND/PCAFETER/ch04.wav'),\n",
       "        PosixPath('../data/cleaned/DEMAND/PCAFETER/ch13.wav'),\n",
       "        PosixPath('../data/cleaned/DEMAND/PCAFETER/ch08.wav')],\n",
       "       dtype=object)}"
      ]
     },
     "execution_count": 15,
     "metadata": {},
     "output_type": "execute_result"
    }
   ],
   "source": [
    "NAME = \"Experiment 1\"\n",
    "CONFIG = {\n",
    "    \"name\": NAME, \n",
    "    \"snr\": [15, 10, 5, 0],\n",
    "    \"results_path\": \"../results/{}\".format(NAME),\n",
    "    \"tensorboard_path\": \"../results/tb/{}\".format(NAME),\n",
    "    \"train_samples\": 20,\n",
    "    \"test_samples\": 10,\n",
    "    \"train_speech_batch_size\": 10,\n",
    "    \"test_speech_batch_size\": 1,\n",
    "    \"shuffle\": True,\n",
    "    \"train_speech\": train_speech_files,\n",
    "    \"test_speech\": test_speech_files,\n",
    "    \"train_noise\": train_noise_files,\n",
    "    \"test_noise\": test_noise_files,\n",
    "}\n",
    "CONFIG"
   ]
  },
  {
   "cell_type": "markdown",
   "metadata": {},
   "source": [
    "# Data"
   ]
  },
  {
   "cell_type": "code",
   "execution_count": 16,
   "metadata": {},
   "outputs": [],
   "source": [
    "seed = 3\n",
    "np.random.seed(seed)\n",
    "torch.manual_seed(seed)\n",
    "torch.backends.cudnn.deterministic = True\n",
    "torch.backends.cudnn.benchmark = False"
   ]
  },
  {
   "cell_type": "markdown",
   "metadata": {},
   "source": [
    "# Train"
   ]
  },
  {
   "cell_type": "code",
   "execution_count": 17,
   "metadata": {},
   "outputs": [],
   "source": [
    "train_dataset = src.SpeechWithNoiseDataset(\n",
    "    CONFIG[\"train_speech\"],\n",
    "    CONFIG[\"train_noise\"],\n",
    "    speech_batch_size=CONFIG[\"train_speech_batch_size\"],\n",
    "    noise_by_speech=4,\n",
    "    max_len=None if CONFIG[\"shuffle\"] else CONFIG[\"train_samples\"],\n",
    "    snr=CONFIG[\"snr\"]\n",
    ")\n",
    "if CONFIG[\"shuffle\"]:\n",
    "    sampler = RandomSampler(\n",
    "        train_dataset,\n",
    "        replacement=True, \n",
    "        num_samples=CONFIG[\"train_samples\"]\n",
    "    )\n",
    "else:\n",
    "    sampler = None\n",
    "train_loader = DataLoader(\n",
    "    train_dataset,\n",
    "    batch_size = None,\n",
    "    sampler = sampler,\n",
    "    num_workers = 3\n",
    ")"
   ]
  },
  {
   "cell_type": "markdown",
   "metadata": {},
   "source": [
    "# Test"
   ]
  },
  {
   "cell_type": "code",
   "execution_count": 18,
   "metadata": {},
   "outputs": [],
   "source": [
    "test_dataset = src.SpeechWithNoiseDataset(\n",
    "    CONFIG[\"test_speech\"],\n",
    "    CONFIG[\"test_noise\"],\n",
    "    speech_batch_size=CONFIG[\"test_speech_batch_size\"],\n",
    "    noise_by_speech=4,\n",
    "    max_len=None if CONFIG[\"shuffle\"] else CONFIG[\"test_samples\"],\n",
    "    snr=CONFIG[\"snr\"]\n",
    ")\n",
    "if CONFIG[\"shuffle\"]:\n",
    "    sampler = RandomSampler(\n",
    "        test_dataset,\n",
    "        replacement=True, \n",
    "        num_samples=CONFIG[\"test_samples\"]\n",
    "    )\n",
    "else:\n",
    "    sampler = None\n",
    "test_loader = DataLoader(\n",
    "    test_dataset,\n",
    "    batch_size = None,\n",
    "    sampler = sampler,\n",
    "    num_workers = 3\n",
    ")"
   ]
  },
  {
   "cell_type": "markdown",
   "metadata": {},
   "source": [
    "# Model"
   ]
  },
  {
   "cell_type": "code",
   "execution_count": 12,
   "metadata": {},
   "outputs": [],
   "source": [
    "conv = src.DCUnet10(iscomplex = True)\n",
    "model = src.EnhModel(conv, 64*16, 16*16)"
   ]
  },
  {
   "cell_type": "code",
   "execution_count": 35,
   "metadata": {},
   "outputs": [],
   "source": [
    "optimizer = optim.Adam(model.parameters(), lr=0.001)\n",
    "def loss(cs, swn, s, **kvargs):\n",
    "    return src.wsdr_loss(\n",
    "        cs,\n",
    "        swn[:, 0:cs.shape[1]],\n",
    "        s[:, 0:cs.shape[1]],\n",
    "        **kvargs\n",
    "    )\n",
    "scheduler = optim.lr_scheduler.StepLR(optimizer, step_size=10, gamma=0.1)"
   ]
  },
  {
   "cell_type": "code",
   "execution_count": 37,
   "metadata": {},
   "outputs": [
    {
     "name": "stdout",
     "output_type": "stream",
     "text": [
      "Device: cuda\n",
      "*****************\n",
      "Epoch 6:\n"
     ]
    },
    {
     "data": {
      "application/vnd.jupyter.widget-view+json": {
       "model_id": "caeca16910cc45f48cb628a0d1a7f130",
       "version_major": 2,
       "version_minor": 0
      },
      "text/plain": [
       "HBox(children=(FloatProgress(value=0.0, max=20.0), HTML(value='')))"
      ]
     },
     "metadata": {},
     "output_type": "display_data"
    },
    {
     "name": "stdout",
     "output_type": "stream",
     "text": [
      "\n",
      "Mean train loss: -0.12390901893377304:\n",
      "warning: audio amplitude out of range, auto clipped.\n",
      "Mean test loss: -0.12905803322792053:\n",
      "---------------\n",
      "Epoch 7:\n"
     ]
    },
    {
     "data": {
      "application/vnd.jupyter.widget-view+json": {
       "model_id": "ea1524869dd44c2eb99587cb7075e5c5",
       "version_major": 2,
       "version_minor": 0
      },
      "text/plain": [
       "HBox(children=(FloatProgress(value=0.0, max=20.0), HTML(value='')))"
      ]
     },
     "metadata": {},
     "output_type": "display_data"
    },
    {
     "name": "stdout",
     "output_type": "stream",
     "text": [
      "\n",
      "Mean train loss: -0.11189625412225723:\n",
      "Mean test loss: -0.10447792708873749:\n",
      "---------------\n",
      "Epoch 8:\n"
     ]
    },
    {
     "data": {
      "application/vnd.jupyter.widget-view+json": {
       "model_id": "6af2cfe76f0f4da485dc0398763bdfae",
       "version_major": 2,
       "version_minor": 0
      },
      "text/plain": [
       "HBox(children=(FloatProgress(value=0.0, max=20.0), HTML(value='')))"
      ]
     },
     "metadata": {},
     "output_type": "display_data"
    },
    {
     "name": "stdout",
     "output_type": "stream",
     "text": [
      "\n",
      "Mean train loss: -0.1353749930858612:\n",
      "Mean test loss: -0.12434504181146622:\n",
      "---------------\n",
      "Epoch 9:\n"
     ]
    },
    {
     "data": {
      "application/vnd.jupyter.widget-view+json": {
       "model_id": "e2c715cf32dd476382a792d85fe0026c",
       "version_major": 2,
       "version_minor": 0
      },
      "text/plain": [
       "HBox(children=(FloatProgress(value=0.0, max=20.0), HTML(value='')))"
      ]
     },
     "metadata": {},
     "output_type": "display_data"
    },
    {
     "name": "stdout",
     "output_type": "stream",
     "text": [
      "\n",
      "Mean train loss: -0.11731763929128647:\n",
      "Mean test loss: -0.11462334543466568:\n",
      "---------------\n",
      "Epoch 10:\n"
     ]
    },
    {
     "data": {
      "application/vnd.jupyter.widget-view+json": {
       "model_id": "8043d6113a8f4b7487ab9838e2470284",
       "version_major": 2,
       "version_minor": 0
      },
      "text/plain": [
       "HBox(children=(FloatProgress(value=0.0, max=20.0), HTML(value='')))"
      ]
     },
     "metadata": {},
     "output_type": "display_data"
    },
    {
     "name": "stdout",
     "output_type": "stream",
     "text": [
      "\n",
      "Mean train loss: -0.11324234306812286:\n",
      "Mean test loss: -0.11469411849975586:\n",
      "---------------\n",
      "Epoch 11:\n"
     ]
    },
    {
     "data": {
      "application/vnd.jupyter.widget-view+json": {
       "model_id": "78f4a1d669ce49149239b511e752da8d",
       "version_major": 2,
       "version_minor": 0
      },
      "text/plain": [
       "HBox(children=(FloatProgress(value=0.0, max=20.0), HTML(value='')))"
      ]
     },
     "metadata": {},
     "output_type": "display_data"
    },
    {
     "name": "stdout",
     "output_type": "stream",
     "text": [
      "\n",
      "Mean train loss: -0.12950173020362854:\n",
      "warning: audio amplitude out of range, auto clipped.\n",
      "Mean test loss: -0.10878507047891617:\n",
      "---------------\n",
      "Epoch 12:\n"
     ]
    },
    {
     "data": {
      "application/vnd.jupyter.widget-view+json": {
       "model_id": "3e912388dda046768b49d94946939ba7",
       "version_major": 2,
       "version_minor": 0
      },
      "text/plain": [
       "HBox(children=(FloatProgress(value=0.0, max=20.0), HTML(value='')))"
      ]
     },
     "metadata": {},
     "output_type": "display_data"
    },
    {
     "name": "stdout",
     "output_type": "stream",
     "text": [
      "\n",
      "Mean train loss: -0.12335125356912613:\n",
      "Mean test loss: -0.11671470105648041:\n",
      "---------------\n",
      "Epoch 13:\n"
     ]
    },
    {
     "data": {
      "application/vnd.jupyter.widget-view+json": {
       "model_id": "16e5543fb2b9499683f91bb0c971056d",
       "version_major": 2,
       "version_minor": 0
      },
      "text/plain": [
       "HBox(children=(FloatProgress(value=0.0, max=20.0), HTML(value='')))"
      ]
     },
     "metadata": {},
     "output_type": "display_data"
    },
    {
     "name": "stdout",
     "output_type": "stream",
     "text": [
      "\n",
      "Mean train loss: -0.14269530773162842:\n",
      "Mean test loss: -0.13682392239570618:\n",
      "---------------\n",
      "Epoch 14:\n"
     ]
    },
    {
     "data": {
      "application/vnd.jupyter.widget-view+json": {
       "model_id": "d8718ef509a845e7b8ce38b6530749cb",
       "version_major": 2,
       "version_minor": 0
      },
      "text/plain": [
       "HBox(children=(FloatProgress(value=0.0, max=20.0), HTML(value='')))"
      ]
     },
     "metadata": {},
     "output_type": "display_data"
    },
    {
     "name": "stdout",
     "output_type": "stream",
     "text": [
      "\n",
      "Mean train loss: -0.13708408176898956:\n",
      "Mean test loss: -0.12853512167930603:\n",
      "---------------\n",
      "Epoch 15:\n"
     ]
    },
    {
     "data": {
      "application/vnd.jupyter.widget-view+json": {
       "model_id": "1821ecdf94994363a725e9cd7954d724",
       "version_major": 2,
       "version_minor": 0
      },
      "text/plain": [
       "HBox(children=(FloatProgress(value=0.0, max=20.0), HTML(value='')))"
      ]
     },
     "metadata": {},
     "output_type": "display_data"
    },
    {
     "name": "stdout",
     "output_type": "stream",
     "text": [
      "\n",
      "Mean train loss: -0.13093766570091248:\n",
      "warning: audio amplitude out of range, auto clipped.\n",
      "Mean test loss: -0.1339951753616333:\n",
      "---------------\n",
      "Epoch 16:\n"
     ]
    },
    {
     "data": {
      "application/vnd.jupyter.widget-view+json": {
       "model_id": "106458d139b346028bb69ed5bdda03fa",
       "version_major": 2,
       "version_minor": 0
      },
      "text/plain": [
       "HBox(children=(FloatProgress(value=0.0, max=20.0), HTML(value='')))"
      ]
     },
     "metadata": {},
     "output_type": "display_data"
    },
    {
     "name": "stdout",
     "output_type": "stream",
     "text": [
      "\n",
      "Mean train loss: -0.11019350588321686:\n",
      "Mean test loss: -0.14603985846042633:\n",
      "---------------\n",
      "Epoch 17:\n"
     ]
    },
    {
     "data": {
      "application/vnd.jupyter.widget-view+json": {
       "model_id": "8dc8898d418a46e7a0ca951039e4f9d5",
       "version_major": 2,
       "version_minor": 0
      },
      "text/plain": [
       "HBox(children=(FloatProgress(value=0.0, max=20.0), HTML(value='')))"
      ]
     },
     "metadata": {},
     "output_type": "display_data"
    },
    {
     "name": "stdout",
     "output_type": "stream",
     "text": [
      "\n",
      "Mean train loss: -0.13916310667991638:\n",
      "Mean test loss: -0.1316952407360077:\n",
      "---------------\n",
      "Epoch 18:\n"
     ]
    },
    {
     "data": {
      "application/vnd.jupyter.widget-view+json": {
       "model_id": "dc326074488b48cb968fd9e2c8976164",
       "version_major": 2,
       "version_minor": 0
      },
      "text/plain": [
       "HBox(children=(FloatProgress(value=0.0, max=20.0), HTML(value='')))"
      ]
     },
     "metadata": {},
     "output_type": "display_data"
    },
    {
     "name": "stdout",
     "output_type": "stream",
     "text": [
      "\n",
      "Mean train loss: -0.14552298188209534:\n",
      "Mean test loss: -0.1345289647579193:\n",
      "---------------\n",
      "Epoch 19:\n"
     ]
    },
    {
     "data": {
      "application/vnd.jupyter.widget-view+json": {
       "model_id": "830236c2e54e46ab8437e9b9b02d3d77",
       "version_major": 2,
       "version_minor": 0
      },
      "text/plain": [
       "HBox(children=(FloatProgress(value=0.0, max=20.0), HTML(value='')))"
      ]
     },
     "metadata": {},
     "output_type": "display_data"
    },
    {
     "name": "stdout",
     "output_type": "stream",
     "text": [
      "\n",
      "Mean train loss: -0.13804881274700165:\n",
      "Mean test loss: -0.15105359256267548:\n",
      "---------------\n",
      "Epoch 20:\n"
     ]
    },
    {
     "data": {
      "application/vnd.jupyter.widget-view+json": {
       "model_id": "f4aa7a65d4664291a749fa2120532e35",
       "version_major": 2,
       "version_minor": 0
      },
      "text/plain": [
       "HBox(children=(FloatProgress(value=0.0, max=20.0), HTML(value='')))"
      ]
     },
     "metadata": {},
     "output_type": "display_data"
    },
    {
     "name": "stdout",
     "output_type": "stream",
     "text": [
      "\n",
      "Mean train loss: -0.11449827998876572:\n",
      "Mean test loss: -0.16470867395401:\n",
      "---------------\n",
      "Epoch 21:\n"
     ]
    },
    {
     "data": {
      "application/vnd.jupyter.widget-view+json": {
       "model_id": "8ad57b58677348c3a326c3a9d8d0af72",
       "version_major": 2,
       "version_minor": 0
      },
      "text/plain": [
       "HBox(children=(FloatProgress(value=0.0, max=20.0), HTML(value='')))"
      ]
     },
     "metadata": {},
     "output_type": "display_data"
    },
    {
     "name": "stdout",
     "output_type": "stream",
     "text": [
      "\n",
      "Mean train loss: -0.13901129364967346:\n",
      "Mean test loss: -0.143695667386055:\n",
      "---------------\n",
      "Epoch 22:\n"
     ]
    },
    {
     "data": {
      "application/vnd.jupyter.widget-view+json": {
       "model_id": "2c0eac3bfae545e7ba240d91b80b1367",
       "version_major": 2,
       "version_minor": 0
      },
      "text/plain": [
       "HBox(children=(FloatProgress(value=0.0, max=20.0), HTML(value='')))"
      ]
     },
     "metadata": {},
     "output_type": "display_data"
    },
    {
     "name": "stdout",
     "output_type": "stream",
     "text": [
      "\n",
      "Mean train loss: -0.13821814954280853:\n",
      "warning: audio amplitude out of range, auto clipped.\n",
      "Mean test loss: -0.12923437356948853:\n",
      "---------------\n",
      "Epoch 23:\n"
     ]
    },
    {
     "data": {
      "application/vnd.jupyter.widget-view+json": {
       "model_id": "645d88f27ec443a8936ba99e722b560b",
       "version_major": 2,
       "version_minor": 0
      },
      "text/plain": [
       "HBox(children=(FloatProgress(value=0.0, max=20.0), HTML(value='')))"
      ]
     },
     "metadata": {},
     "output_type": "display_data"
    },
    {
     "name": "stdout",
     "output_type": "stream",
     "text": [
      "\n",
      "Mean train loss: -0.1350826919078827:\n",
      "Mean test loss: -0.143620103597641:\n",
      "---------------\n",
      "Epoch 24:\n"
     ]
    },
    {
     "data": {
      "application/vnd.jupyter.widget-view+json": {
       "model_id": "dceded91df0740a99f13f2cee1b7a26f",
       "version_major": 2,
       "version_minor": 0
      },
      "text/plain": [
       "HBox(children=(FloatProgress(value=0.0, max=20.0), HTML(value='')))"
      ]
     },
     "metadata": {},
     "output_type": "display_data"
    },
    {
     "ename": "KeyboardInterrupt",
     "evalue": "",
     "output_type": "error",
     "traceback": [
      "\u001b[0;31m---------------------------------------------------------------------------\u001b[0m",
      "\u001b[0;31mKeyboardInterrupt\u001b[0m                         Traceback (most recent call last)",
      "\u001b[0;32m<ipython-input-37-a880dce344d0>\u001b[0m in \u001b[0;36m<module>\u001b[0;34m\u001b[0m\n\u001b[1;32m      8\u001b[0m     \u001b[0mtb_path\u001b[0m\u001b[0;34m=\u001b[0m\u001b[0mCONFIG\u001b[0m\u001b[0;34m[\u001b[0m\u001b[0;34m\"tensorboard_path\"\u001b[0m\u001b[0;34m]\u001b[0m\u001b[0;34m,\u001b[0m\u001b[0;34m\u001b[0m\u001b[0;34m\u001b[0m\u001b[0m\n\u001b[1;32m      9\u001b[0m     \u001b[0minit_epoch\u001b[0m\u001b[0;34m=\u001b[0m\u001b[0;36m5\u001b[0m\u001b[0;34m,\u001b[0m\u001b[0;34m\u001b[0m\u001b[0;34m\u001b[0m\u001b[0m\n\u001b[0;32m---> 10\u001b[0;31m     \u001b[0mepochs\u001b[0m \u001b[0;34m=\u001b[0m \u001b[0;36m100\u001b[0m\u001b[0;34m\u001b[0m\u001b[0;34m\u001b[0m\u001b[0m\n\u001b[0m\u001b[1;32m     11\u001b[0m )\n",
      "\u001b[0;32m<ipython-input-23-610ab714883b>\u001b[0m in \u001b[0;36mtrain\u001b[0;34m(model, train_loader, test_loader, loss, optimizer, scheduler, tb_path, epochs, init_epoch)\u001b[0m\n\u001b[1;32m     35\u001b[0m             \u001b[0ms\u001b[0m \u001b[0;34m=\u001b[0m \u001b[0ms\u001b[0m\u001b[0;34m.\u001b[0m\u001b[0mto\u001b[0m\u001b[0;34m(\u001b[0m\u001b[0mdevice\u001b[0m\u001b[0;34m)\u001b[0m\u001b[0;34m\u001b[0m\u001b[0;34m\u001b[0m\u001b[0m\n\u001b[1;32m     36\u001b[0m \u001b[0;34m\u001b[0m\u001b[0m\n\u001b[0;32m---> 37\u001b[0;31m             \u001b[0mcs\u001b[0m \u001b[0;34m=\u001b[0m \u001b[0mmodel\u001b[0m\u001b[0;34m.\u001b[0m\u001b[0mforward\u001b[0m\u001b[0;34m(\u001b[0m\u001b[0mswn\u001b[0m\u001b[0;34m)\u001b[0m\u001b[0;34m\u001b[0m\u001b[0;34m\u001b[0m\u001b[0m\n\u001b[0m\u001b[1;32m     38\u001b[0m             \u001b[0mloss_value\u001b[0m \u001b[0;34m=\u001b[0m \u001b[0mloss\u001b[0m\u001b[0;34m(\u001b[0m\u001b[0mcs\u001b[0m\u001b[0;34m,\u001b[0m \u001b[0mswn\u001b[0m\u001b[0;34m,\u001b[0m \u001b[0ms\u001b[0m\u001b[0;34m)\u001b[0m\u001b[0;34m\u001b[0m\u001b[0;34m\u001b[0m\u001b[0m\n\u001b[1;32m     39\u001b[0m \u001b[0;34m\u001b[0m\u001b[0m\n",
      "\u001b[0;32m/workdir/src/model/enhmodel.py\u001b[0m in \u001b[0;36mforward\u001b[0;34m(self, audio)\u001b[0m\n\u001b[1;32m     19\u001b[0m                             \u001b[0mwindow\u001b[0m\u001b[0;34m=\u001b[0m\u001b[0mself\u001b[0m\u001b[0;34m.\u001b[0m\u001b[0mwindow\u001b[0m\u001b[0;34m.\u001b[0m\u001b[0mto\u001b[0m\u001b[0;34m(\u001b[0m\u001b[0maudio\u001b[0m\u001b[0;34m.\u001b[0m\u001b[0mdevice\u001b[0m\u001b[0;34m)\u001b[0m\u001b[0;34m,\u001b[0m\u001b[0;34m\u001b[0m\u001b[0;34m\u001b[0m\u001b[0m\n\u001b[1;32m     20\u001b[0m                             normalized=True)  # (B, W, H, 2)\n\u001b[0;32m---> 21\u001b[0;31m         \u001b[0mx_conv\u001b[0m \u001b[0;34m=\u001b[0m \u001b[0mself\u001b[0m\u001b[0;34m.\u001b[0m\u001b[0mconv\u001b[0m\u001b[0;34m(\u001b[0m\u001b[0mx_stft\u001b[0m\u001b[0;34m.\u001b[0m\u001b[0munsqueeze\u001b[0m\u001b[0;34m(\u001b[0m\u001b[0;36m1\u001b[0m\u001b[0;34m)\u001b[0m\u001b[0;34m)\u001b[0m\u001b[0;34m.\u001b[0m\u001b[0munbind\u001b[0m\u001b[0;34m(\u001b[0m\u001b[0;36m1\u001b[0m\u001b[0;34m)\u001b[0m\u001b[0;34m[\u001b[0m\u001b[0;36m0\u001b[0m\u001b[0;34m]\u001b[0m  \u001b[0;31m# (B, W, H, 2)\u001b[0m\u001b[0;34m\u001b[0m\u001b[0;34m\u001b[0m\u001b[0m\n\u001b[0m\u001b[1;32m     22\u001b[0m         \u001b[0mx_crm\u001b[0m \u001b[0;34m=\u001b[0m \u001b[0mself\u001b[0m\u001b[0;34m.\u001b[0m\u001b[0mcRM\u001b[0m\u001b[0;34m(\u001b[0m\u001b[0mx_conv\u001b[0m\u001b[0;34m,\u001b[0m \u001b[0mx_stft\u001b[0m\u001b[0;34m)\u001b[0m\u001b[0;34m\u001b[0m\u001b[0;34m\u001b[0m\u001b[0m\n\u001b[1;32m     23\u001b[0m         x_istft = istft(x_crm,\n",
      "\u001b[0;32m/opt/conda/envs/vkinternship/lib/python3.7/site-packages/torch/nn/modules/module.py\u001b[0m in \u001b[0;36m__call__\u001b[0;34m(self, *input, **kwargs)\u001b[0m\n\u001b[1;32m    539\u001b[0m             \u001b[0mresult\u001b[0m \u001b[0;34m=\u001b[0m \u001b[0mself\u001b[0m\u001b[0;34m.\u001b[0m\u001b[0m_slow_forward\u001b[0m\u001b[0;34m(\u001b[0m\u001b[0;34m*\u001b[0m\u001b[0minput\u001b[0m\u001b[0;34m,\u001b[0m \u001b[0;34m**\u001b[0m\u001b[0mkwargs\u001b[0m\u001b[0;34m)\u001b[0m\u001b[0;34m\u001b[0m\u001b[0;34m\u001b[0m\u001b[0m\n\u001b[1;32m    540\u001b[0m         \u001b[0;32melse\u001b[0m\u001b[0;34m:\u001b[0m\u001b[0;34m\u001b[0m\u001b[0;34m\u001b[0m\u001b[0m\n\u001b[0;32m--> 541\u001b[0;31m             \u001b[0mresult\u001b[0m \u001b[0;34m=\u001b[0m \u001b[0mself\u001b[0m\u001b[0;34m.\u001b[0m\u001b[0mforward\u001b[0m\u001b[0;34m(\u001b[0m\u001b[0;34m*\u001b[0m\u001b[0minput\u001b[0m\u001b[0;34m,\u001b[0m \u001b[0;34m**\u001b[0m\u001b[0mkwargs\u001b[0m\u001b[0;34m)\u001b[0m\u001b[0;34m\u001b[0m\u001b[0;34m\u001b[0m\u001b[0m\n\u001b[0m\u001b[1;32m    542\u001b[0m         \u001b[0;32mfor\u001b[0m \u001b[0mhook\u001b[0m \u001b[0;32min\u001b[0m \u001b[0mself\u001b[0m\u001b[0;34m.\u001b[0m\u001b[0m_forward_hooks\u001b[0m\u001b[0;34m.\u001b[0m\u001b[0mvalues\u001b[0m\u001b[0;34m(\u001b[0m\u001b[0;34m)\u001b[0m\u001b[0;34m:\u001b[0m\u001b[0;34m\u001b[0m\u001b[0;34m\u001b[0m\u001b[0m\n\u001b[1;32m    543\u001b[0m             \u001b[0mhook_result\u001b[0m \u001b[0;34m=\u001b[0m \u001b[0mhook\u001b[0m\u001b[0;34m(\u001b[0m\u001b[0mself\u001b[0m\u001b[0;34m,\u001b[0m \u001b[0minput\u001b[0m\u001b[0;34m,\u001b[0m \u001b[0mresult\u001b[0m\u001b[0;34m)\u001b[0m\u001b[0;34m\u001b[0m\u001b[0;34m\u001b[0m\u001b[0m\n",
      "\u001b[0;32m/workdir/src/model/dcunet.py\u001b[0m in \u001b[0;36mforward\u001b[0;34m(self, x)\u001b[0m\n\u001b[1;32m    132\u001b[0m                 \u001b[0mx\u001b[0m \u001b[0;34m=\u001b[0m \u001b[0mtorch\u001b[0m\u001b[0;34m.\u001b[0m\u001b[0mcat\u001b[0m\u001b[0;34m(\u001b[0m\u001b[0;34m(\u001b[0m\u001b[0mconnect_x\u001b[0m\u001b[0;34m,\u001b[0m \u001b[0mprev_x\u001b[0m\u001b[0;34m)\u001b[0m\u001b[0;34m,\u001b[0m \u001b[0mdim\u001b[0m\u001b[0;34m=\u001b[0m\u001b[0;36m1\u001b[0m\u001b[0;34m)\u001b[0m\u001b[0;34m\u001b[0m\u001b[0;34m\u001b[0m\u001b[0m\n\u001b[1;32m    133\u001b[0m \u001b[0;34m\u001b[0m\u001b[0m\n\u001b[0;32m--> 134\u001b[0;31m             \u001b[0mx\u001b[0m \u001b[0;34m=\u001b[0m \u001b[0mlayer\u001b[0m\u001b[0;34m(\u001b[0m\u001b[0mx\u001b[0m\u001b[0;34m)\u001b[0m\u001b[0;34m\u001b[0m\u001b[0;34m\u001b[0m\u001b[0m\n\u001b[0m\u001b[1;32m    135\u001b[0m             \u001b[0;32mif\u001b[0m \u001b[0;32mnot\u001b[0m \u001b[0mis_have_connect\u001b[0m\u001b[0;34m:\u001b[0m\u001b[0;34m\u001b[0m\u001b[0;34m\u001b[0m\u001b[0m\n\u001b[1;32m    136\u001b[0m                 \u001b[0mouts\u001b[0m\u001b[0;34m.\u001b[0m\u001b[0mappend\u001b[0m\u001b[0;34m(\u001b[0m\u001b[0mx\u001b[0m\u001b[0;34m.\u001b[0m\u001b[0mdata\u001b[0m\u001b[0;34m)\u001b[0m\u001b[0;34m\u001b[0m\u001b[0;34m\u001b[0m\u001b[0m\n",
      "\u001b[0;32m/opt/conda/envs/vkinternship/lib/python3.7/site-packages/torch/nn/modules/module.py\u001b[0m in \u001b[0;36m__call__\u001b[0;34m(self, *input, **kwargs)\u001b[0m\n\u001b[1;32m    539\u001b[0m             \u001b[0mresult\u001b[0m \u001b[0;34m=\u001b[0m \u001b[0mself\u001b[0m\u001b[0;34m.\u001b[0m\u001b[0m_slow_forward\u001b[0m\u001b[0;34m(\u001b[0m\u001b[0;34m*\u001b[0m\u001b[0minput\u001b[0m\u001b[0;34m,\u001b[0m \u001b[0;34m**\u001b[0m\u001b[0mkwargs\u001b[0m\u001b[0;34m)\u001b[0m\u001b[0;34m\u001b[0m\u001b[0;34m\u001b[0m\u001b[0m\n\u001b[1;32m    540\u001b[0m         \u001b[0;32melse\u001b[0m\u001b[0;34m:\u001b[0m\u001b[0;34m\u001b[0m\u001b[0;34m\u001b[0m\u001b[0m\n\u001b[0;32m--> 541\u001b[0;31m             \u001b[0mresult\u001b[0m \u001b[0;34m=\u001b[0m \u001b[0mself\u001b[0m\u001b[0;34m.\u001b[0m\u001b[0mforward\u001b[0m\u001b[0;34m(\u001b[0m\u001b[0;34m*\u001b[0m\u001b[0minput\u001b[0m\u001b[0;34m,\u001b[0m \u001b[0;34m**\u001b[0m\u001b[0mkwargs\u001b[0m\u001b[0;34m)\u001b[0m\u001b[0;34m\u001b[0m\u001b[0;34m\u001b[0m\u001b[0m\n\u001b[0m\u001b[1;32m    542\u001b[0m         \u001b[0;32mfor\u001b[0m \u001b[0mhook\u001b[0m \u001b[0;32min\u001b[0m \u001b[0mself\u001b[0m\u001b[0;34m.\u001b[0m\u001b[0m_forward_hooks\u001b[0m\u001b[0;34m.\u001b[0m\u001b[0mvalues\u001b[0m\u001b[0;34m(\u001b[0m\u001b[0;34m)\u001b[0m\u001b[0;34m:\u001b[0m\u001b[0;34m\u001b[0m\u001b[0;34m\u001b[0m\u001b[0m\n\u001b[1;32m    543\u001b[0m             \u001b[0mhook_result\u001b[0m \u001b[0;34m=\u001b[0m \u001b[0mhook\u001b[0m\u001b[0;34m(\u001b[0m\u001b[0mself\u001b[0m\u001b[0;34m,\u001b[0m \u001b[0minput\u001b[0m\u001b[0;34m,\u001b[0m \u001b[0mresult\u001b[0m\u001b[0;34m)\u001b[0m\u001b[0;34m\u001b[0m\u001b[0;34m\u001b[0m\u001b[0m\n",
      "\u001b[0;32m/opt/conda/envs/vkinternship/lib/python3.7/site-packages/torch/nn/modules/container.py\u001b[0m in \u001b[0;36mforward\u001b[0;34m(self, input)\u001b[0m\n\u001b[1;32m     90\u001b[0m     \u001b[0;32mdef\u001b[0m \u001b[0mforward\u001b[0m\u001b[0;34m(\u001b[0m\u001b[0mself\u001b[0m\u001b[0;34m,\u001b[0m \u001b[0minput\u001b[0m\u001b[0;34m)\u001b[0m\u001b[0;34m:\u001b[0m\u001b[0;34m\u001b[0m\u001b[0;34m\u001b[0m\u001b[0m\n\u001b[1;32m     91\u001b[0m         \u001b[0;32mfor\u001b[0m \u001b[0mmodule\u001b[0m \u001b[0;32min\u001b[0m \u001b[0mself\u001b[0m\u001b[0;34m.\u001b[0m\u001b[0m_modules\u001b[0m\u001b[0;34m.\u001b[0m\u001b[0mvalues\u001b[0m\u001b[0;34m(\u001b[0m\u001b[0;34m)\u001b[0m\u001b[0;34m:\u001b[0m\u001b[0;34m\u001b[0m\u001b[0;34m\u001b[0m\u001b[0m\n\u001b[0;32m---> 92\u001b[0;31m             \u001b[0minput\u001b[0m \u001b[0;34m=\u001b[0m \u001b[0mmodule\u001b[0m\u001b[0;34m(\u001b[0m\u001b[0minput\u001b[0m\u001b[0;34m)\u001b[0m\u001b[0;34m\u001b[0m\u001b[0;34m\u001b[0m\u001b[0m\n\u001b[0m\u001b[1;32m     93\u001b[0m         \u001b[0;32mreturn\u001b[0m \u001b[0minput\u001b[0m\u001b[0;34m\u001b[0m\u001b[0;34m\u001b[0m\u001b[0m\n\u001b[1;32m     94\u001b[0m \u001b[0;34m\u001b[0m\u001b[0m\n",
      "\u001b[0;32m/opt/conda/envs/vkinternship/lib/python3.7/site-packages/torch/nn/modules/module.py\u001b[0m in \u001b[0;36m__call__\u001b[0;34m(self, *input, **kwargs)\u001b[0m\n\u001b[1;32m    539\u001b[0m             \u001b[0mresult\u001b[0m \u001b[0;34m=\u001b[0m \u001b[0mself\u001b[0m\u001b[0;34m.\u001b[0m\u001b[0m_slow_forward\u001b[0m\u001b[0;34m(\u001b[0m\u001b[0;34m*\u001b[0m\u001b[0minput\u001b[0m\u001b[0;34m,\u001b[0m \u001b[0;34m**\u001b[0m\u001b[0mkwargs\u001b[0m\u001b[0;34m)\u001b[0m\u001b[0;34m\u001b[0m\u001b[0;34m\u001b[0m\u001b[0m\n\u001b[1;32m    540\u001b[0m         \u001b[0;32melse\u001b[0m\u001b[0;34m:\u001b[0m\u001b[0;34m\u001b[0m\u001b[0;34m\u001b[0m\u001b[0m\n\u001b[0;32m--> 541\u001b[0;31m             \u001b[0mresult\u001b[0m \u001b[0;34m=\u001b[0m \u001b[0mself\u001b[0m\u001b[0;34m.\u001b[0m\u001b[0mforward\u001b[0m\u001b[0;34m(\u001b[0m\u001b[0;34m*\u001b[0m\u001b[0minput\u001b[0m\u001b[0;34m,\u001b[0m \u001b[0;34m**\u001b[0m\u001b[0mkwargs\u001b[0m\u001b[0;34m)\u001b[0m\u001b[0;34m\u001b[0m\u001b[0;34m\u001b[0m\u001b[0m\n\u001b[0m\u001b[1;32m    542\u001b[0m         \u001b[0;32mfor\u001b[0m \u001b[0mhook\u001b[0m \u001b[0;32min\u001b[0m \u001b[0mself\u001b[0m\u001b[0;34m.\u001b[0m\u001b[0m_forward_hooks\u001b[0m\u001b[0;34m.\u001b[0m\u001b[0mvalues\u001b[0m\u001b[0;34m(\u001b[0m\u001b[0;34m)\u001b[0m\u001b[0;34m:\u001b[0m\u001b[0;34m\u001b[0m\u001b[0;34m\u001b[0m\u001b[0m\n\u001b[1;32m    543\u001b[0m             \u001b[0mhook_result\u001b[0m \u001b[0;34m=\u001b[0m \u001b[0mhook\u001b[0m\u001b[0;34m(\u001b[0m\u001b[0mself\u001b[0m\u001b[0;34m,\u001b[0m \u001b[0minput\u001b[0m\u001b[0;34m,\u001b[0m \u001b[0mresult\u001b[0m\u001b[0;34m)\u001b[0m\u001b[0;34m\u001b[0m\u001b[0;34m\u001b[0m\u001b[0m\n",
      "\u001b[0;32m/workdir/src/model/complexnet.py\u001b[0m in \u001b[0;36mforward\u001b[0;34m(self, x)\u001b[0m\n\u001b[1;32m    111\u001b[0m             \u001b[0;32mwith\u001b[0m \u001b[0mtorch\u001b[0m\u001b[0;34m.\u001b[0m\u001b[0mno_grad\u001b[0m\u001b[0;34m(\u001b[0m\u001b[0;34m)\u001b[0m\u001b[0;34m:\u001b[0m\u001b[0;34m\u001b[0m\u001b[0;34m\u001b[0m\u001b[0m\n\u001b[1;32m    112\u001b[0m                 \u001b[0mself\u001b[0m\u001b[0;34m.\u001b[0m\u001b[0mrunning_mean\u001b[0m \u001b[0;34m*=\u001b[0m \u001b[0;34m(\u001b[0m\u001b[0;36m1\u001b[0m \u001b[0;34m-\u001b[0m \u001b[0mself\u001b[0m\u001b[0;34m.\u001b[0m\u001b[0mmomentum\u001b[0m\u001b[0;34m)\u001b[0m\u001b[0;34m\u001b[0m\u001b[0;34m\u001b[0m\u001b[0m\n\u001b[0;32m--> 113\u001b[0;31m                 \u001b[0mself\u001b[0m\u001b[0;34m.\u001b[0m\u001b[0mrunning_mean\u001b[0m \u001b[0;34m+=\u001b[0m \u001b[0mself\u001b[0m\u001b[0;34m.\u001b[0m\u001b[0mmomentum\u001b[0m \u001b[0;34m*\u001b[0m \u001b[0mmean_complex\u001b[0m\u001b[0;34m.\u001b[0m\u001b[0mdata\u001b[0m\u001b[0;34m.\u001b[0m\u001b[0mcpu\u001b[0m\u001b[0;34m(\u001b[0m\u001b[0;34m)\u001b[0m\u001b[0;34m\u001b[0m\u001b[0;34m\u001b[0m\u001b[0m\n\u001b[0m\u001b[1;32m    114\u001b[0m         \u001b[0;32melse\u001b[0m\u001b[0;34m:\u001b[0m\u001b[0;34m\u001b[0m\u001b[0;34m\u001b[0m\u001b[0m\n\u001b[1;32m    115\u001b[0m             \u001b[0mmean_complex\u001b[0m \u001b[0;34m=\u001b[0m \u001b[0mself\u001b[0m\u001b[0;34m.\u001b[0m\u001b[0mrunning_mean\u001b[0m\u001b[0;34m.\u001b[0m\u001b[0mto\u001b[0m\u001b[0;34m(\u001b[0m\u001b[0mx\u001b[0m\u001b[0;34m.\u001b[0m\u001b[0mdevice\u001b[0m\u001b[0;34m)\u001b[0m\u001b[0;34m\u001b[0m\u001b[0;34m\u001b[0m\u001b[0m\n",
      "\u001b[0;31mKeyboardInterrupt\u001b[0m: "
     ]
    }
   ],
   "source": [
    "train(\n",
    "    model,\n",
    "    train_loader,\n",
    "    test_loader,\n",
    "    loss,\n",
    "    optimizer,\n",
    "    scheduler,\n",
    "    tb_path=CONFIG[\"tensorboard_path\"],\n",
    "    init_epoch=5,\n",
    "    epochs = 100\n",
    ")"
   ]
  },
  {
   "cell_type": "code",
   "execution_count": 38,
   "metadata": {},
   "outputs": [
    {
     "name": "stderr",
     "output_type": "stream",
     "text": [
      "/opt/conda/envs/vkinternship/lib/python3.7/site-packages/torch/serialization.py:292: UserWarning: Couldn't retrieve source code for container of type EnhModel. It won't be checked for correctness upon loading.\n",
      "  \"type \" + obj.__name__ + \". It won't be checked \"\n",
      "/opt/conda/envs/vkinternship/lib/python3.7/site-packages/torch/serialization.py:292: UserWarning: Couldn't retrieve source code for container of type DCUnet10. It won't be checked for correctness upon loading.\n",
      "  \"type \" + obj.__name__ + \". It won't be checked \"\n",
      "/opt/conda/envs/vkinternship/lib/python3.7/site-packages/torch/serialization.py:292: UserWarning: Couldn't retrieve source code for container of type ModuleList. It won't be checked for correctness upon loading.\n",
      "  \"type \" + obj.__name__ + \". It won't be checked \"\n",
      "/opt/conda/envs/vkinternship/lib/python3.7/site-packages/torch/serialization.py:292: UserWarning: Couldn't retrieve source code for container of type Sequential. It won't be checked for correctness upon loading.\n",
      "  \"type \" + obj.__name__ + \". It won't be checked \"\n",
      "/opt/conda/envs/vkinternship/lib/python3.7/site-packages/torch/serialization.py:292: UserWarning: Couldn't retrieve source code for container of type ComplexConv2d. It won't be checked for correctness upon loading.\n",
      "  \"type \" + obj.__name__ + \". It won't be checked \"\n",
      "/opt/conda/envs/vkinternship/lib/python3.7/site-packages/torch/serialization.py:292: UserWarning: Couldn't retrieve source code for container of type Conv2d. It won't be checked for correctness upon loading.\n",
      "  \"type \" + obj.__name__ + \". It won't be checked \"\n",
      "/opt/conda/envs/vkinternship/lib/python3.7/site-packages/torch/serialization.py:292: UserWarning: Couldn't retrieve source code for container of type ComplexBatchNorm2d. It won't be checked for correctness upon loading.\n",
      "  \"type \" + obj.__name__ + \". It won't be checked \"\n",
      "/opt/conda/envs/vkinternship/lib/python3.7/site-packages/torch/serialization.py:292: UserWarning: Couldn't retrieve source code for container of type ComplexReLU. It won't be checked for correctness upon loading.\n",
      "  \"type \" + obj.__name__ + \". It won't be checked \"\n",
      "/opt/conda/envs/vkinternship/lib/python3.7/site-packages/torch/serialization.py:292: UserWarning: Couldn't retrieve source code for container of type ReLU. It won't be checked for correctness upon loading.\n",
      "  \"type \" + obj.__name__ + \". It won't be checked \"\n",
      "/opt/conda/envs/vkinternship/lib/python3.7/site-packages/torch/serialization.py:292: UserWarning: Couldn't retrieve source code for container of type ComplexConvTranspose2d. It won't be checked for correctness upon loading.\n",
      "  \"type \" + obj.__name__ + \". It won't be checked \"\n",
      "/opt/conda/envs/vkinternship/lib/python3.7/site-packages/torch/serialization.py:292: UserWarning: Couldn't retrieve source code for container of type ConvTranspose2d. It won't be checked for correctness upon loading.\n",
      "  \"type \" + obj.__name__ + \". It won't be checked \"\n"
     ]
    }
   ],
   "source": [
    "os.makedirs(CONFIG[\"results_path\"], exist_ok = True) \n",
    "torch.save(model, os.path.join(CONFIG[\"results_path\"], \"mode.pth\"))"
   ]
  },
  {
   "cell_type": "code",
   "execution_count": 39,
   "metadata": {},
   "outputs": [],
   "source": [
    "os.makedirs(CONFIG[\"results_path\"], exist_ok = True) \n",
    "torch.save(model.state_dict(), os.path.join(CONFIG[\"results_path\"], \"mode_state.pth\"))"
   ]
  },
  {
   "cell_type": "markdown",
   "metadata": {},
   "source": [
    "# Metrics"
   ]
  },
  {
   "cell_type": "code",
   "execution_count": 44,
   "metadata": {},
   "outputs": [],
   "source": [
    "from pypesq import pesq"
   ]
  },
  {
   "cell_type": "code",
   "execution_count": 53,
   "metadata": {},
   "outputs": [
    {
     "data": {
      "application/vnd.jupyter.widget-view+json": {
       "model_id": "028099ca5ed94e10b60d292e69575190",
       "version_major": 2,
       "version_minor": 0
      },
      "text/plain": [
       "HBox(children=(FloatProgress(value=0.0), HTML(value='')))"
      ]
     },
     "metadata": {},
     "output_type": "display_data"
    },
    {
     "name": "stdout",
     "output_type": "stream",
     "text": [
      "\n"
     ]
    }
   ],
   "source": [
    "N = 100\n",
    "mean_pesq = 0\n",
    "model = model.cpu()\n",
    "for i in tqdm(range(N)):\n",
    "    swn, s = test_dataset[i]\n",
    "    cs = model(swn[[0], :])\n",
    "    mean_pesq += pesq(s[0,:cs.shape[1]].data.numpy(), cs[0,:].data.numpy(), fs=16000)\n",
    "mean_pesq /= N"
   ]
  },
  {
   "cell_type": "code",
   "execution_count": 54,
   "metadata": {},
   "outputs": [
    {
     "data": {
      "text/plain": [
       "2.313958193063736"
      ]
     },
     "execution_count": 54,
     "metadata": {},
     "output_type": "execute_result"
    }
   ],
   "source": [
    "mean_pesq"
   ]
  }
 ],
 "metadata": {
  "kernelspec": {
   "display_name": "Python 3",
   "language": "python",
   "name": "python3"
  }
 },
 "nbformat": 4,
 "nbformat_minor": 4
}
